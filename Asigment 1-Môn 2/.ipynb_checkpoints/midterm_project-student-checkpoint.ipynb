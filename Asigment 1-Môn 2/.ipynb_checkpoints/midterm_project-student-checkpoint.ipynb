{
 "cells": [
  {
   "cell_type": "markdown",
   "metadata": {},
   "source": [
    "# Linear Regression\n",
    "\n",
    "Linear Regression is one of the most basic machine learning algorithms and is used to find linear relations between one or more inputs and the output.\n",
    "\n",
    "See [here](https://ml-cheatsheet.readthedocs.io/en/latest/linear_regression.html#linear-regression) for some useful stuffs, though not as useful as paying attention to what you have learnt.\n",
    "\n",
    "First, we import the necessary libraries"
   ]
  },
  {
   "cell_type": "code",
   "execution_count": 1,
   "metadata": {},
   "outputs": [],
   "source": [
    "import numpy as np\n",
    "import pandas as pd\n",
    "#import seaborn as sns\n",
    "#from sklearn.datasets import load_boston, load_linnerud\n",
    "import matplotlib.pyplot as plt\n",
    "%matplotlib inline"
   ]
  },
  {
   "cell_type": "markdown",
   "metadata": {},
   "source": [
    "## Load the data\n",
    "The file containing data is `weatherHistory.csv`. Open it using pandas, with the headers in the first rows, and put the resulting DataFrame into variable `weather_data`."
   ]
  },
  {
   "cell_type": "code",
   "execution_count": 2,
   "metadata": {},
   "outputs": [
    {
     "data": {
      "text/html": [
       "<div>\n",
       "<style scoped>\n",
       "    .dataframe tbody tr th:only-of-type {\n",
       "        vertical-align: middle;\n",
       "    }\n",
       "\n",
       "    .dataframe tbody tr th {\n",
       "        vertical-align: top;\n",
       "    }\n",
       "\n",
       "    .dataframe thead th {\n",
       "        text-align: right;\n",
       "    }\n",
       "</style>\n",
       "<table border=\"1\" class=\"dataframe\">\n",
       "  <thead>\n",
       "    <tr style=\"text-align: right;\">\n",
       "      <th></th>\n",
       "      <th>Formatted Date</th>\n",
       "      <th>Summary</th>\n",
       "      <th>Precip Type</th>\n",
       "      <th>Temperature (C)</th>\n",
       "      <th>Apparent Temperature (C)</th>\n",
       "      <th>Humidity</th>\n",
       "      <th>Wind Speed (km/h)</th>\n",
       "      <th>Wind Bearing (degrees)</th>\n",
       "      <th>Visibility (km)</th>\n",
       "      <th>Loud Cover</th>\n",
       "      <th>Pressure (millibars)</th>\n",
       "      <th>Daily Summary</th>\n",
       "    </tr>\n",
       "  </thead>\n",
       "  <tbody>\n",
       "    <tr>\n",
       "      <td>0</td>\n",
       "      <td>2006-04-01 00:00:00.000 +0200</td>\n",
       "      <td>Partly Cloudy</td>\n",
       "      <td>rain</td>\n",
       "      <td>9.472222</td>\n",
       "      <td>7.388889</td>\n",
       "      <td>0.89</td>\n",
       "      <td>14.1197</td>\n",
       "      <td>251.0</td>\n",
       "      <td>15.8263</td>\n",
       "      <td>0.0</td>\n",
       "      <td>1015.13</td>\n",
       "      <td>Partly cloudy throughout the day.</td>\n",
       "    </tr>\n",
       "    <tr>\n",
       "      <td>1</td>\n",
       "      <td>2006-04-01 01:00:00.000 +0200</td>\n",
       "      <td>Partly Cloudy</td>\n",
       "      <td>rain</td>\n",
       "      <td>9.355556</td>\n",
       "      <td>7.227778</td>\n",
       "      <td>0.86</td>\n",
       "      <td>14.2646</td>\n",
       "      <td>259.0</td>\n",
       "      <td>15.8263</td>\n",
       "      <td>0.0</td>\n",
       "      <td>1015.63</td>\n",
       "      <td>Partly cloudy throughout the day.</td>\n",
       "    </tr>\n",
       "    <tr>\n",
       "      <td>2</td>\n",
       "      <td>2006-04-01 02:00:00.000 +0200</td>\n",
       "      <td>Mostly Cloudy</td>\n",
       "      <td>rain</td>\n",
       "      <td>9.377778</td>\n",
       "      <td>9.377778</td>\n",
       "      <td>0.89</td>\n",
       "      <td>3.9284</td>\n",
       "      <td>204.0</td>\n",
       "      <td>14.9569</td>\n",
       "      <td>0.0</td>\n",
       "      <td>1015.94</td>\n",
       "      <td>Partly cloudy throughout the day.</td>\n",
       "    </tr>\n",
       "    <tr>\n",
       "      <td>3</td>\n",
       "      <td>2006-04-01 03:00:00.000 +0200</td>\n",
       "      <td>Partly Cloudy</td>\n",
       "      <td>rain</td>\n",
       "      <td>8.288889</td>\n",
       "      <td>5.944444</td>\n",
       "      <td>0.83</td>\n",
       "      <td>14.1036</td>\n",
       "      <td>269.0</td>\n",
       "      <td>15.8263</td>\n",
       "      <td>0.0</td>\n",
       "      <td>1016.41</td>\n",
       "      <td>Partly cloudy throughout the day.</td>\n",
       "    </tr>\n",
       "    <tr>\n",
       "      <td>4</td>\n",
       "      <td>2006-04-01 04:00:00.000 +0200</td>\n",
       "      <td>Mostly Cloudy</td>\n",
       "      <td>rain</td>\n",
       "      <td>8.755556</td>\n",
       "      <td>6.977778</td>\n",
       "      <td>0.83</td>\n",
       "      <td>11.0446</td>\n",
       "      <td>259.0</td>\n",
       "      <td>15.8263</td>\n",
       "      <td>0.0</td>\n",
       "      <td>1016.51</td>\n",
       "      <td>Partly cloudy throughout the day.</td>\n",
       "    </tr>\n",
       "  </tbody>\n",
       "</table>\n",
       "</div>"
      ],
      "text/plain": [
       "                  Formatted Date        Summary Precip Type  Temperature (C)  \\\n",
       "0  2006-04-01 00:00:00.000 +0200  Partly Cloudy        rain         9.472222   \n",
       "1  2006-04-01 01:00:00.000 +0200  Partly Cloudy        rain         9.355556   \n",
       "2  2006-04-01 02:00:00.000 +0200  Mostly Cloudy        rain         9.377778   \n",
       "3  2006-04-01 03:00:00.000 +0200  Partly Cloudy        rain         8.288889   \n",
       "4  2006-04-01 04:00:00.000 +0200  Mostly Cloudy        rain         8.755556   \n",
       "\n",
       "   Apparent Temperature (C)  Humidity  Wind Speed (km/h)  \\\n",
       "0                  7.388889      0.89            14.1197   \n",
       "1                  7.227778      0.86            14.2646   \n",
       "2                  9.377778      0.89             3.9284   \n",
       "3                  5.944444      0.83            14.1036   \n",
       "4                  6.977778      0.83            11.0446   \n",
       "\n",
       "   Wind Bearing (degrees)  Visibility (km)  Loud Cover  Pressure (millibars)  \\\n",
       "0                   251.0          15.8263         0.0               1015.13   \n",
       "1                   259.0          15.8263         0.0               1015.63   \n",
       "2                   204.0          14.9569         0.0               1015.94   \n",
       "3                   269.0          15.8263         0.0               1016.41   \n",
       "4                   259.0          15.8263         0.0               1016.51   \n",
       "\n",
       "                       Daily Summary  \n",
       "0  Partly cloudy throughout the day.  \n",
       "1  Partly cloudy throughout the day.  \n",
       "2  Partly cloudy throughout the day.  \n",
       "3  Partly cloudy throughout the day.  \n",
       "4  Partly cloudy throughout the day.  "
      ]
     },
     "execution_count": 2,
     "metadata": {},
     "output_type": "execute_result"
    }
   ],
   "source": [
    "weather_data = pd.read_csv('weatherHistory.csv')\n",
    "weather_data.head(5)"
   ]
  },
  {
   "cell_type": "markdown",
   "metadata": {},
   "source": [
    "## Simple data visualization\n",
    "Generally, after we load in any types of data, we would want to _visualize_ them into graphs and charts which are more intuitive. For example, the `pandas` library provide an inbuilt 2d plot function for its `DataFrame` objects. Quite useful if we want to concentrate only on two or three properties."
   ]
  },
  {
   "cell_type": "code",
   "execution_count": 3,
   "metadata": {},
   "outputs": [
    {
     "data": {
      "text/plain": [
       "<matplotlib.axes._subplots.AxesSubplot at 0x20de36f8e48>"
      ]
     },
     "execution_count": 3,
     "metadata": {},
     "output_type": "execute_result"
    },
    {
     "data": {
      "image/png": "[encoded data removed]",
      "text/plain": [
       "<Figure size 432x288 with 2 Axes>"
      ]
     },
     "metadata": {
      "needs_background": "light"
     },
     "output_type": "display_data"
    }
   ],
   "source": [
    "x_field = \"Wind Speed (km/h)\"\n",
    "y_field = \"Temperature (C)\"\n",
    "c_field = \"Apparent Temperature (C)\"\n",
    "weather_data.plot.scatter(x_field, y_field, s=50,c=c_field)"
   ]
  },
  {
   "cell_type": "markdown",
   "metadata": {},
   "source": [
    "It is also shipped with inbuilt correlation function, although if you want nifty pretty images, you have to work for it since it only provide you with the 2D matrix. Call the function `DataFrame.corr` to retrieve the correlation matrix from the DataFrame object, and create an `matplotlib.axes.Axes` that can be seen from `matplotlib`. You can create a tuple of (Figure, Axes) from `matplotlib.pyplot.subplots`."
   ]
  },
  {
   "cell_type": "code",
   "execution_count": 7,
   "metadata": {},
   "outputs": [],
   "source": [
    "import matplotlib.axes\n",
    "correlation_matrix = weather_data.corr(method='pearson')\n",
    "ax = matplotlib.axes.Axes"
   ]
  },
  {
   "cell_type": "code",
   "execution_count": 5,
   "metadata": {},
   "outputs": [
    {
     "ename": "TypeError",
     "evalue": "set_xticklabels() missing 1 required positional argument: 'labels'",
     "output_type": "error",
     "traceback": [
      "\u001b[1;31m---------------------------------------------------------------------------\u001b[0m",
      "\u001b[1;31mTypeError\u001b[0m                                 Traceback (most recent call last)",
      "\u001b[1;32m<ipython-input-5-ab46e650b78a>\u001b[0m in \u001b[0;36m<module>\u001b[1;34m\u001b[0m\n\u001b[1;32m----> 1\u001b[1;33m \u001b[0max\u001b[0m\u001b[1;33m.\u001b[0m\u001b[0mset_xticklabels\u001b[0m\u001b[1;33m(\u001b[0m\u001b[1;33m[\u001b[0m\u001b[1;34m\"\"\u001b[0m\u001b[1;33m]\u001b[0m \u001b[1;33m+\u001b[0m \u001b[0mcorrelation_matrix\u001b[0m\u001b[1;33m.\u001b[0m\u001b[0mcolumns\u001b[0m\u001b[1;33m.\u001b[0m\u001b[0mvalues\u001b[0m\u001b[1;33m.\u001b[0m\u001b[0mtolist\u001b[0m\u001b[1;33m(\u001b[0m\u001b[1;33m)\u001b[0m\u001b[1;33m)\u001b[0m\u001b[1;33m\u001b[0m\u001b[1;33m\u001b[0m\u001b[0m\n\u001b[0m\u001b[0;32m      2\u001b[0m \u001b[0max\u001b[0m\u001b[1;33m.\u001b[0m\u001b[0mset_yticklabels\u001b[0m\u001b[1;33m(\u001b[0m\u001b[1;33m[\u001b[0m\u001b[1;34m\"\"\u001b[0m\u001b[1;33m]\u001b[0m \u001b[1;33m+\u001b[0m \u001b[0mcorrelation_matrix\u001b[0m\u001b[1;33m.\u001b[0m\u001b[0mcolumns\u001b[0m\u001b[1;33m.\u001b[0m\u001b[0mvalues\u001b[0m\u001b[1;33m.\u001b[0m\u001b[0mtolist\u001b[0m\u001b[1;33m(\u001b[0m\u001b[1;33m)\u001b[0m\u001b[1;33m)\u001b[0m\u001b[1;33m\u001b[0m\u001b[1;33m\u001b[0m\u001b[0m\n\u001b[0;32m      3\u001b[0m \u001b[0mplt\u001b[0m\u001b[1;33m.\u001b[0m\u001b[0mxticks\u001b[0m\u001b[1;33m(\u001b[0m\u001b[0mrotation\u001b[0m\u001b[1;33m=\u001b[0m\u001b[1;36m90\u001b[0m\u001b[1;33m)\u001b[0m\u001b[1;33m\u001b[0m\u001b[1;33m\u001b[0m\u001b[0m\n\u001b[0;32m      4\u001b[0m \u001b[1;33m\u001b[0m\u001b[0m\n\u001b[0;32m      5\u001b[0m \u001b[1;32mfor\u001b[0m \u001b[0mi\u001b[0m\u001b[1;33m,\u001b[0m \u001b[0mcolumn\u001b[0m \u001b[1;32min\u001b[0m \u001b[0menumerate\u001b[0m\u001b[1;33m(\u001b[0m\u001b[0mcorrelation_matrix\u001b[0m\u001b[1;33m.\u001b[0m\u001b[0mvalues\u001b[0m\u001b[1;33m)\u001b[0m\u001b[1;33m:\u001b[0m\u001b[1;33m\u001b[0m\u001b[1;33m\u001b[0m\u001b[0m\n",
      "\u001b[1;31mTypeError\u001b[0m: set_xticklabels() missing 1 required positional argument: 'labels'"
     ]
    }
   ],
   "source": [
    "ax.set_xticklabels([\"\"] + correlation_matrix.columns.values.tolist())\n",
    "ax.set_yticklabels([\"\"] + correlation_matrix.columns.values.tolist())\n",
    "plt.xticks(rotation=90)\n",
    "\n",
    "for i, column in enumerate(correlation_matrix.values):\n",
    "    for j, value in enumerate(column):\n",
    "        text = ax.text(j, i, \"%.2f\" % value,\n",
    "                       ha=\"center\", va=\"center\", color=\"black\")\n",
    "\n",
    "#sns.heatmap(data=correlation_matrix, annot=True, center=0, cmap=\"coolwarm\")\n",
    "plt.show()"
   ]
  },
  {
   "cell_type": "markdown",
   "metadata": {},
   "source": [
    "## Extra considerations\n",
    "* For a good linear regression model, we select features with high positive or negative correlation. High absolute correlation often means that the paired variables \\*moves\\* similarly to each other.\n",
    "* When selecting features, avoid having multi-co-linearity within features since they may introduce noises. Search [here](https://stats.stackexchange.com/a/1150) for more."
   ]
  },
  {
   "cell_type": "markdown",
   "metadata": {},
   "source": [
    "## Helper functions\n",
    "All functions we required for this assignment have already been provided by `sklearn` library; However, they are not strictly a requirement - students can implement their own versions as they see fit."
   ]
  },
  {
   "cell_type": "code",
   "execution_count": 8,
   "metadata": {},
   "outputs": [],
   "source": [
    "from sklearn.linear_model import SGDRegressor, LinearRegression\n",
    "from sklearn.model_selection import train_test_split\n",
    "from sklearn.metrics import mean_squared_error"
   ]
  },
  {
   "cell_type": "code",
   "execution_count": 9,
   "metadata": {},
   "outputs": [],
   "source": [
    "weather_data[\"bias\"] = 1\n",
    "train_data, test_data = train_test_split(weather_data, train_size=0.8, test_size=0.2, random_state=0)"
   ]
  },
  {
   "cell_type": "markdown",
   "metadata": {},
   "source": [
    "## LinearRegression\n",
    "### Extracting data\n",
    "Your first task is to write a function extracting features from both training and test data. The format is provided below. Make sure to view the two function call in the cell below to easier understand what is wanted.\n",
    "\n",
    "The \"bias\" field is mostly for helping those who build their custom model, as `sklearn`'s implementation already have bias by default."
   ]
  },
  {
   "cell_type": "code",
   "execution_count": 10,
   "metadata": {},
   "outputs": [],
   "source": [
    "def extract_features_and_labels(data, features_name, labels_name):\n",
    "    features_columns = data[features_name]\n",
    "    features_data = features_columns.values\n",
    "    labels_data = data[labels_name].values\n",
    "    return features_data, labels_data"
   ]
  },
  {
   "cell_type": "code",
   "execution_count": 11,
   "metadata": {},
   "outputs": [],
   "source": [
    "# Run this after the function had been written\n",
    "train_features, train_labels = extract_features_and_labels(train_data, [\"Temperature (C)\", \"bias\"], \"Apparent Temperature (C)\")\n",
    "test_features, test_labels = extract_features_and_labels(test_data, [\"Temperature (C)\", \"bias\"], \"Apparent Temperature (C)\")"
   ]
  },
  {
   "cell_type": "markdown",
   "metadata": {},
   "source": [
    "### Create and train model instances\n",
    "Now, create two models that fit to the training data (features and labels). Again, you can either make them yourself, or consult the imported functions/classes. The first model will use matrix solving least-squared and called `linear_model`; the second will use gradient descent and called `sgd_model`. Both can only train on the **(train_features, train_labels)** set only.\n",
    "\n",
    "Remember, both must conform to the model interface from sklearn, which means, at minimum, the functions <i>fit</i> for training and <i>predict</i> for inference."
   ]
  },
  {
   "cell_type": "code",
   "execution_count": 14,
   "metadata": {},
   "outputs": [],
   "source": [
    "linear_model = LinearRegression().fit(train_features,train_labels) # use matrix solving least_squared\n",
    "sgd_model = SGDRegressor().fit(train_features,train_labels) # use gradient descent"
   ]
  },
  {
   "cell_type": "markdown",
   "metadata": {},
   "source": [
    "### Visualize the result\n",
    "After the model had been constructed and trained, we can apply them on the test set **(test_features, test_labels)** and calculate the MSE score to evaluate their performance. However, it will not be as intuitive as plotting our models on a 2D space as we will do below."
   ]
  },
  {
   "cell_type": "code",
   "execution_count": 15,
   "metadata": {},
   "outputs": [
    {
     "name": "stdout",
     "output_type": "stream",
     "text": [
      "MSE for linear model: 1.68\n",
      "MSE for gradient descent model: 1.71\n"
     ]
    },
    {
     "data": {
      "image/png": "[encoded data removed]",
      "text/plain": [
       "<Figure size 432x288 with 2 Axes>"
      ]
     },
     "metadata": {
      "needs_background": "light"
     },
     "output_type": "display_data"
    }
   ],
   "source": [
    "fig, (ax1, ax2) = plt.subplots(1, 2, sharey=True)\n",
    "\n",
    "# scatter on both\n",
    "datapoint_x = test_features[:, 0] # element first column\n",
    "datapoint_y = test_labels\n",
    "ax1.scatter(datapoint_x, datapoint_y)\n",
    "ax2.scatter(datapoint_x, datapoint_y)\n",
    "\n",
    "# draw the linear version on 1 and sgd on 2\n",
    "linear_y = linear_model.predict(test_features)\n",
    "ax1.plot(datapoint_x, linear_y, color=\"red\")\n",
    "sgd_y = sgd_model.predict(test_features)\n",
    "ax2.plot(datapoint_x, sgd_y, color=\"green\")\n",
    "\n",
    "ax1.set_xlabel(\"Temperature (C)\")\n",
    "ax2.set_xlabel(\"Temperature (C)\")\n",
    "ax1.set_ylabel(\"Apparent Temperature (C)\")\n",
    "ax2.set_ylabel(\"Apparent Temperature (C)\")\n",
    "\n",
    "error_linear = mean_squared_error(test_labels, linear_y)\n",
    "error_sgd = mean_squared_error(test_labels, sgd_y)\n",
    "print(\"MSE for linear model: {:.2f}\\nMSE for gradient descent model: {:.2f}\".format(error_linear, error_sgd))"
   ]
  },
  {
   "cell_type": "markdown",
   "metadata": {},
   "source": [
    "### Multiple Regression models\n",
    "As you can see, the previous example is a no-brainer - \"Apparent Temperature\" are closely linked to \"Temperature\", and one alone can easily make a good guess on the other. The harder problem is if we can predict other aspect, such as \"Visibility\". \n",
    "\n",
    "Choose two features you think will work best and train the two models just as above. Save them into variables `linear_model_multiple` and `sgd_model_multiple`. Think:\n",
    "* What will be good two features to put into this new model?\n",
    "* How well do those features correlate with the label? With each other?\n",
    "* Is there a risk of collinearity between your features?"
   ]
  },
  {
   "cell_type": "code",
   "execution_count": null,
   "metadata": {},
   "outputs": [],
   "source": [
    "# linear_model_multiple = ?; sgd_model_multiple = ?"
   ]
  },
  {
   "cell_type": "markdown",
   "metadata": {},
   "source": [
    "### 3D visualization\n",
    "Since we now have two features instead of one, plotting the result of the regression on 2D would be quite clunky. Good thing that the `matplotlib` library also provide us with a 3D plotting function. The block of code below will draw it for you, provide that you have put your models in the right places (`linear_model_multiple` and `sgd_model_multiple`) and them having correct interface (`fit` and `predict`)."
   ]
  },
  {
   "cell_type": "code",
   "execution_count": null,
   "metadata": {},
   "outputs": [],
   "source": [
    "from mpl_toolkits.mplot3d import Axes3D\n",
    "from matplotlib import cm\n",
    "fig = plt.figure(figsize=(16, 9))\n",
    "ax1 = fig.add_subplot(1, 2, 1, projection='3d')\n",
    "ax2 = fig.add_subplot(1, 2, 2, projection='3d')\n",
    "\n",
    "#to Add a color bar which maps values to colors.\n",
    "feature_1 = test_features[:, 0]\n",
    "feature_2 = test_features[:, 1]\n",
    "ax1.scatter(feature_1, feature_2, test_labels, s=50, alpha=0.6, edgecolors='w')\n",
    "ax2.scatter(feature_1, feature_2, test_labels, s=50, alpha=0.6, edgecolors='w')\n",
    "\n",
    "x_dimension = np.linspace(np.amin(feature_1), np.amax(feature_1), 100)\n",
    "y_dimension = np.linspace(np.amin(feature_2), np.amax(feature_2), 100)\n",
    "mesh_x, mesh_y = np.meshgrid(x_dimension, y_dimension)\n",
    "#print(np.shape(mesh_x), np.shape(mesh_y))\n",
    "mesh_features = np.stack([mesh_x, mesh_y, np.ones_like(mesh_x)], axis=-1)\n",
    "mesh_features = np.reshape(mesh_features, [-1, 3])\n",
    "\n",
    "linear_z = linear_model_multiple.predict(mesh_features)\n",
    "linear_z = np.reshape(linear_z, np.shape(mesh_x))\n",
    "#xs, ys, zs = np.meshgrid(feature_1, feature_2, linear_y, sparse=True)\n",
    "ax1.plot_surface(mesh_x, mesh_y, linear_z, cmap=cm.viridis, linewidth=0.2)\n",
    "#zs = np.array([[model.predict([x, y]) for x, y in zip(x_row, y_row)] for x_row, y_row in zip(xs, ys)])\n",
    "\n",
    "sgd_z = sgd_model_multiple.predict(mesh_features)\n",
    "sgd_z = np.reshape(sgd_z, np.shape(mesh_x))\n",
    "#xs, ys, zs = np.meshgri(feature_1, feature_2, sgd_y, sparse=True)\n",
    "ax2.plot_surface(mesh_x, mesh_y, sgd_z, cmap=cm.viridis, linewidth=0.2)\n",
    "\n",
    "error_linear = mean_squared_error(test_labels, linear_model_multiple.predict(test_features))\n",
    "error_sgd = mean_squared_error(test_labels, sgd_model_multiple.predict(test_features))\n",
    "print(\"MSE for linear multiple model: {:.2f}\\nMSE for gradient descent multiple model: {:.2f}\".format(error_linear, error_sgd))\n",
    "\n",
    "for ax in [ax1, ax2]:\n",
    "    ax.set_xlabel(features[0])\n",
    "    ax.set_ylabel(features[1])\n",
    "    ax.set_zlabel(labels)\n",
    "    ax.view_init(azim=135)\n",
    "    \n",
    "plt.axis('tight')\n",
    "plt.show()"
   ]
  },
  {
   "cell_type": "code",
   "execution_count": null,
   "metadata": {},
   "outputs": [],
   "source": []
  }
 ],
 "metadata": {
  "file_extension": ".py",
  "kernelspec": {
   "display_name": "Python 3",
   "language": "python",
   "name": "python3"
  },
  "language_info": {
   "codemirror_mode": {
    "name": "ipython",
    "version": 3
   },
   "file_extension": ".py",
   "mimetype": "text/x-python",
   "name": "python",
   "nbconvert_exporter": "python",
   "pygments_lexer": "ipython3",
   "version": "3.7.4"
  },
  "mimetype": "text/x-python",
  "name": "python",
  "npconvert_exporter": "python",
  "pygments_lexer": "ipython3",
  "version": 3
 },
 "nbformat": 4,
 "nbformat_minor": 2
}
