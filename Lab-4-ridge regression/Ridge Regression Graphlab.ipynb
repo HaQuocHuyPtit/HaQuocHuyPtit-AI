{
 "cells": [
  {
   "cell_type": "code",
   "execution_count": 1,
   "metadata": {},
   "outputs": [],
   "source": [
    "import graphlab"
   ]
  },
  {
   "cell_type": "code",
   "execution_count": 2,
   "metadata": {},
   "outputs": [],
   "source": [
    "def polynomial_sframe(feature, degree):\n",
    "    poly_sframe = graphlab.SFrame()\n",
    "    # and set poly_sframe['power_1'] equal to the passed feature\n",
    "    poly_sframe['power_1'] = feature\n",
    "    # first check if degree > 1\n",
    "    if degree > 1:\n",
    "        # then loop over the remaining degrees:\n",
    "        # range usually starts at 0 and stops at the endpoint-1. We want it to start at 2 and stop at degree\n",
    "        for power in range(2, degree+1): \n",
    "            # first we'll give the column a name:\n",
    "            name = 'power_' + str(power)\n",
    "            # then assign poly_sframe[name] to the appropriate power of feature\n",
    "            poly_sframe[name] = feature.apply(lambda x: x**power)\n",
    "    return poly_sframe"
   ]
  },
  {
   "cell_type": "code",
   "execution_count": 3,
   "metadata": {},
   "outputs": [],
   "source": [
    "import matplotlib.pyplot as plt\n",
    "get_ipython().magic(u'matplotlib inline')"
   ]
  },
  {
   "cell_type": "code",
   "execution_count": 4,
   "metadata": {},
   "outputs": [
    {
     "name": "stdout",
     "output_type": "stream",
     "text": [
      "This non-commercial license of GraphLab Create for academic use is assigned to HaQuocHuyPtit@gmail.com and will expire on February 06, 2021.\n"
     ]
    },
    {
     "name": "stderr",
     "output_type": "stream",
     "text": [
      "[INFO] graphlab.cython.cy_server: GraphLab Create v2.1 started. Logging: C:\\Users\\admin\\AppData\\Local\\Temp\\graphlab_server_1584949415.log.0\n"
     ]
    },
    {
     "data": {
      "text/html": [
       "<pre>Finished parsing file C:\\Users\\admin\\Desktop\\Lab-4-ridge regression\\kc_house_data.csv</pre>"
      ],
      "text/plain": [
       "Finished parsing file C:\\Users\\admin\\Desktop\\Lab-4-ridge regression\\kc_house_data.csv"
      ]
     },
     "metadata": {},
     "output_type": "display_data"
    },
    {
     "data": {
      "text/html": [
       "<pre>Parsing completed. Parsed 100 lines in 0.139682 secs.</pre>"
      ],
      "text/plain": [
       "Parsing completed. Parsed 100 lines in 0.139682 secs."
      ]
     },
     "metadata": {},
     "output_type": "display_data"
    },
    {
     "name": "stdout",
     "output_type": "stream",
     "text": [
      "------------------------------------------------------\n",
      "Inferred types from first 100 line(s) of file as \n",
      "column_type_hints=[long,str,float,long,float,long,long,float,long,long,long,long,long,long,long,long,long,float,float,long,long]\n",
      "If parsing fails due to incorrect types, you can correct\n",
      "the inferred type list above and pass it to read_csv in\n",
      "the column_type_hints argument\n",
      "------------------------------------------------------\n"
     ]
    },
    {
     "data": {
      "text/html": [
       "<pre>Finished parsing file C:\\Users\\admin\\Desktop\\Lab-4-ridge regression\\kc_house_data.csv</pre>"
      ],
      "text/plain": [
       "Finished parsing file C:\\Users\\admin\\Desktop\\Lab-4-ridge regression\\kc_house_data.csv"
      ]
     },
     "metadata": {},
     "output_type": "display_data"
    },
    {
     "data": {
      "text/html": [
       "<pre>Parsing completed. Parsed 21613 lines in 0.127872 secs.</pre>"
      ],
      "text/plain": [
       "Parsing completed. Parsed 21613 lines in 0.127872 secs."
      ]
     },
     "metadata": {},
     "output_type": "display_data"
    }
   ],
   "source": [
    "sales = graphlab.SFrame('kc_house_data.csv')"
   ]
  },
  {
   "cell_type": "code",
   "execution_count": 5,
   "metadata": {},
   "outputs": [],
   "source": [
    "sales = sales.sort(['sqft_living','price'])"
   ]
  },
  {
   "cell_type": "code",
   "execution_count": 6,
   "metadata": {},
   "outputs": [],
   "source": [
    "l2_small_penalty = 1e-5\n",
    "poly15_data = polynomial_sframe(sales['sqft_living'], 15)\n",
    "my_features15 = poly15_data.column_names() # get the name of the features\n",
    "poly15_data['price'] = sales['price']"
   ]
  },
  {
   "cell_type": "code",
   "execution_count": 9,
   "metadata": {},
   "outputs": [
    {
     "data": {
      "text/html": [
       "<pre>Linear regression:</pre>"
      ],
      "text/plain": [
       "Linear regression:"
      ]
     },
     "metadata": {},
     "output_type": "display_data"
    },
    {
     "data": {
      "text/html": [
       "<pre>--------------------------------------------------------</pre>"
      ],
      "text/plain": [
       "--------------------------------------------------------"
      ]
     },
     "metadata": {},
     "output_type": "display_data"
    },
    {
     "data": {
      "text/html": [
       "<pre>Number of examples          : 21613</pre>"
      ],
      "text/plain": [
       "Number of examples          : 21613"
      ]
     },
     "metadata": {},
     "output_type": "display_data"
    },
    {
     "data": {
      "text/html": [
       "<pre>Number of features          : 15</pre>"
      ],
      "text/plain": [
       "Number of features          : 15"
      ]
     },
     "metadata": {},
     "output_type": "display_data"
    },
    {
     "data": {
      "text/html": [
       "<pre>Number of unpacked features : 15</pre>"
      ],
      "text/plain": [
       "Number of unpacked features : 15"
      ]
     },
     "metadata": {},
     "output_type": "display_data"
    },
    {
     "data": {
      "text/html": [
       "<pre>Number of coefficients    : 16</pre>"
      ],
      "text/plain": [
       "Number of coefficients    : 16"
      ]
     },
     "metadata": {},
     "output_type": "display_data"
    },
    {
     "data": {
      "text/html": [
       "<pre>Starting Newton Method</pre>"
      ],
      "text/plain": [
       "Starting Newton Method"
      ]
     },
     "metadata": {},
     "output_type": "display_data"
    },
    {
     "data": {
      "text/html": [
       "<pre>--------------------------------------------------------</pre>"
      ],
      "text/plain": [
       "--------------------------------------------------------"
      ]
     },
     "metadata": {},
     "output_type": "display_data"
    },
    {
     "data": {
      "text/html": [
       "<pre>+-----------+----------+--------------+--------------------+---------------+</pre>"
      ],
      "text/plain": [
       "+-----------+----------+--------------+--------------------+---------------+"
      ]
     },
     "metadata": {},
     "output_type": "display_data"
    },
    {
     "data": {
      "text/html": [
       "<pre>| Iteration | Passes   | Elapsed Time | Training-max_error | Training-rmse |</pre>"
      ],
      "text/plain": [
       "| Iteration | Passes   | Elapsed Time | Training-max_error | Training-rmse |"
      ]
     },
     "metadata": {},
     "output_type": "display_data"
    },
    {
     "name": "stdout",
     "output_type": "stream",
     "text": [
      "+-------------+-------+--------------------+-------------------+\n",
      "|     name    | index |       value        |       stderr      |\n",
      "+-------------+-------+--------------------+-------------------+\n",
      "| (intercept) |  None |   146954.842191    |   157627.904383   |\n",
      "|   power_1   |  None |   193.651207648    |   492.213425556   |\n",
      "|   power_2   |  None | -0.00910224468769  |   0.578907638806  |\n",
      "|   power_3   |  None | -1.9053488718e-05  | 0.000317779020041 |\n",
      "|   power_4   |  None | 8.73398864333e-09  |  7.3581921806e-08 |\n",
      "|   power_5   |  None | -2.73057060139e-14 | 4.86139758659e-15 |\n",
      "|   power_6   |  None | -1.89436696305e-16 | 5.24325660544e-16 |\n",
      "|   power_7   |  None | -7.63300302279e-20 | 2.56330909097e-18 |\n",
      "|   power_8   |  None | 9.71787959431e-24  | 1.22948719031e-21 |\n",
      "|   power_9   |  None | 1.69053526608e-28  | 2.62212251289e-25 |\n",
      "|   power_10  |  None | -3.5651499494e-32  | 2.54740696276e-29 |\n",
      "|   power_11  |  None | -2.49443569015e-36 |        nan        |\n",
      "|   power_12  |  None | 1.69629458274e-41  |        nan        |\n",
      "|   power_13  |  None | 1.35124341931e-44  | 7.64390455263e-42 |\n",
      "|   power_14  |  None | 7.73409075504e-49  | 6.19387317559e-46 |\n",
      "|   power_15  |  None | -6.40493943475e-53 | 1.21861055676e-50 |\n",
      "+-------------+-------+--------------------+-------------------+\n",
      "[16 rows x 4 columns]\n",
      "\n"
     ]
    },
    {
     "data": {
      "text/html": [
       "<pre>+-----------+----------+--------------+--------------------+---------------+</pre>"
      ],
      "text/plain": [
       "+-----------+----------+--------------+--------------------+---------------+"
      ]
     },
     "metadata": {},
     "output_type": "display_data"
    },
    {
     "data": {
      "text/html": [
       "<pre>| 1         | 2        | 0.035655     | 2667753.942844     | 245406.229117 |</pre>"
      ],
      "text/plain": [
       "| 1         | 2        | 0.035655     | 2667753.942844     | 245406.229117 |"
      ]
     },
     "metadata": {},
     "output_type": "display_data"
    },
    {
     "data": {
      "text/html": [
       "<pre>+-----------+----------+--------------+--------------------+---------------+</pre>"
      ],
      "text/plain": [
       "+-----------+----------+--------------+--------------------+---------------+"
      ]
     },
     "metadata": {},
     "output_type": "display_data"
    },
    {
     "data": {
      "text/html": [
       "<pre>SUCCESS: Optimal solution found.</pre>"
      ],
      "text/plain": [
       "SUCCESS: Optimal solution found."
      ]
     },
     "metadata": {},
     "output_type": "display_data"
    },
    {
     "data": {
      "text/html": [
       "<pre></pre>"
      ],
      "text/plain": []
     },
     "metadata": {},
     "output_type": "display_data"
    }
   ],
   "source": [
    "model15 = graphlab.linear_regression.create(poly15_data, target = 'price', features = my_features15, l2_penalty=l2_small_penalty, \n",
    "                                            validation_set = None)\n",
    "model15.get(\"coefficients\").print_rows(num_rows = 16)\n"
   ]
  },
  {
   "cell_type": "code",
   "execution_count": 11,
   "metadata": {},
   "outputs": [],
   "source": [
    "(semi_split1, semi_split2) = sales.random_split(.5,seed=0)\n",
    "(set_1, set_2) = semi_split1.random_split(0.5, seed=0)\n",
    "(set_3, set_4) = semi_split2.random_split(0.5, seed=0)"
   ]
  },
  {
   "cell_type": "code",
   "execution_count": 12,
   "metadata": {},
   "outputs": [
    {
     "name": "stdout",
     "output_type": "stream",
     "text": [
      "+-------------+-------+--------------------+-------------------+\n",
      "|     name    | index |       value        |       stderr      |\n",
      "+-------------+-------+--------------------+-------------------+\n",
      "| (intercept) |  None |   27906.0355803    |   325232.510561   |\n",
      "|   power_1   |  None |   529.272594561    |   985.453883839   |\n",
      "|   power_2   |  None |  -0.342257824205   |   1.10832722902   |\n",
      "|   power_3   |  None | 0.000121000914719  | 0.000570262375967 |\n",
      "|   power_4   |  None | -1.3200209022e-08  | 1.20711944256e-07 |\n",
      "|   power_5   |  None | -9.47920632227e-15 | 9.85031720796e-15 |\n",
      "|   power_6   |  None |  3.1256865848e-16  | 1.05932949332e-15 |\n",
      "|   power_7   |  None | 6.46586171957e-21  | 2.52746847247e-18 |\n",
      "|   power_8   |  None | 6.62231536656e-25  | 8.22853187866e-22 |\n",
      "|   power_9   |  None | -3.8142984422e-29  |        nan        |\n",
      "|   power_10  |  None | -6.87320153782e-33 |        nan        |\n",
      "|   power_11  |  None | -2.89015703492e-37 |        nan        |\n",
      "|   power_12  |  None | 1.82583258847e-41  | 4.13174174325e-37 |\n",
      "|   power_13  |  None |  3.4382723096e-45  | 4.78451385296e-41 |\n",
      "|   power_14  |  None | 1.66451013934e-49  | 2.34091982754e-45 |\n",
      "|   power_15  |  None | -2.00387490618e-53 | 4.47567832355e-50 |\n",
      "+-------------+-------+--------------------+-------------------+\n",
      "[16 rows x 4 columns]\n",
      "\n"
     ]
    },
    {
     "data": {
      "text/plain": [
       "[<matplotlib.lines.Line2D at 0x13472588>,\n",
       " <matplotlib.lines.Line2D at 0x13252f28>]"
      ]
     },
     "execution_count": 12,
     "metadata": {},
     "output_type": "execute_result"
    },
    {
     "data": {
      "image/png": "[encoded data removed]",
      "text/plain": [
       "<Figure size 432x288 with 1 Axes>"
      ]
     },
     "metadata": {
      "needs_background": "light"
     },
     "output_type": "display_data"
    }
   ],
   "source": [
    "poly1_data = polynomial_sframe(set_1['sqft_living'], 15) # use equivalent of `polynomial_sframe`\n",
    "my_features = poly1_data.column_names() \n",
    "poly1_data['price'] = set_1['price']\n",
    "model1 = graphlab.linear_regression.create(poly1_data, target = 'price', features = my_features, verbose = False, \n",
    "                                           validation_set = None, l2_penalty=l2_small_penalty)\n",
    "model1.get(\"coefficients\").print_rows(num_rows=16)\n",
    "plt.plot(poly1_data['power_1'],poly1_data['price'],'.',\n",
    "        poly1_data['power_1'], model1.predict(poly1_data),'-')"
   ]
  },
  {
   "cell_type": "code",
   "execution_count": 13,
   "metadata": {},
   "outputs": [
    {
     "name": "stdout",
     "output_type": "stream",
     "text": [
      "+-------------+-------+--------------------+-------------------+\n",
      "|     name    | index |       value        |       stderr      |\n",
      "+-------------+-------+--------------------+-------------------+\n",
      "| (intercept) |  None |   66372.2344249    |   516777.361141   |\n",
      "|   power_1   |  None |   468.531102167    |   1972.18229283   |\n",
      "|   power_2   |  None |   -0.35681334084   |   2.91783717475   |\n",
      "|   power_3   |  None | 0.000177977131205  |  0.00205126446145 |\n",
      "|   power_4   |  None | -3.45596538957e-08 | 6.12285241915e-07 |\n",
      "|   power_5   |  None | -3.27569382894e-14 | 1.66146710413e-14 |\n",
      "|   power_6   |  None | 2.08128762713e-16  | 1.05729098931e-15 |\n",
      "|   power_7   |  None | 4.37715917436e-19  |  4.513687294e-17  |\n",
      "|   power_8   |  None | -7.03106165049e-23 | 2.63030572241e-20 |\n",
      "|   power_9   |  None | -4.22264653652e-27 | 4.87430879122e-24 |\n",
      "|   power_10  |  None | 5.70778292524e-31  |        nan        |\n",
      "|   power_11  |  None | 9.68992043528e-35  |        nan        |\n",
      "|   power_12  |  None | 2.14604761132e-39  |        nan        |\n",
      "|   power_13  |  None | -1.0743566317e-42  |        nan        |\n",
      "|   power_14  |  None | -1.34941590695e-46 |        nan        |\n",
      "|   power_15  |  None | 1.39470252459e-50  |        nan        |\n",
      "+-------------+-------+--------------------+-------------------+\n",
      "[16 rows x 4 columns]\n",
      "\n"
     ]
    },
    {
     "data": {
      "text/plain": [
       "[<matplotlib.lines.Line2D at 0x137a2358>,\n",
       " <matplotlib.lines.Line2D at 0x137a23c8>]"
      ]
     },
     "execution_count": 13,
     "metadata": {},
     "output_type": "execute_result"
    },
    {
     "data": {
      "image/png": "[encoded data removed]",
      "text/plain": [
       "<Figure size 432x288 with 1 Axes>"
      ]
     },
     "metadata": {
      "needs_background": "light"
     },
     "output_type": "display_data"
    }
   ],
   "source": [
    "poly2_data = polynomial_sframe(set_2['sqft_living'], 15) # use equivalent of `polynomial_sframe`\n",
    "my_features = poly2_data.column_names() \n",
    "poly2_data['price'] = set_2['price']\n",
    "model2 = graphlab.linear_regression.create(poly2_data, target = 'price', features = my_features, verbose = False, \n",
    "                                           validation_set = None, l2_penalty=l2_small_penalty)\n",
    "model2.get(\"coefficients\").print_rows(num_rows=16)\n",
    "plt.plot(poly2_data['power_1'],poly2_data['price'],'.',\n",
    "        poly2_data['power_1'], model2.predict(poly2_data),'-')\n"
   ]
  },
  {
   "cell_type": "code",
   "execution_count": 14,
   "metadata": {},
   "outputs": [
    {
     "name": "stdout",
     "output_type": "stream",
     "text": [
      "+-------------+-------+--------------------+-------------------+\n",
      "|     name    | index |       value        |       stderr      |\n",
      "+-------------+-------+--------------------+-------------------+\n",
      "| (intercept) |  None |   318778.380988    |   432800.975535   |\n",
      "|   power_1   |  None |   -270.383391286   |   1438.71661191   |\n",
      "|   power_2   |  None |   0.429861190159   |   1.81178941751   |\n",
      "|   power_3   |  None | -0.000196044486653 |  0.00106426023916 |\n",
      "|   power_4   |  None | 3.56899230247e-08  | 2.60222482853e-07 |\n",
      "|   power_5   |  None | -5.38054032674e-14 | 1.00000725514e-14 |\n",
      "|   power_6   |  None | -4.72676046966e-16 | 1.07830579194e-15 |\n",
      "|   power_7   |  None | -1.52345335801e-19 | 5.32971112042e-18 |\n",
      "|   power_8   |  None | 9.95365104226e-24  |        nan        |\n",
      "|   power_9   |  None | 1.62765178588e-27  |        nan        |\n",
      "|   power_10  |  None | 3.04560404494e-33  |        nan        |\n",
      "|   power_11  |  None | -1.59070058381e-35 |        nan        |\n",
      "|   power_12  |  None | -1.32372362588e-39 |        nan        |\n",
      "|   power_13  |  None | 7.20105770928e-44  | 3.86404327119e-40 |\n",
      "|   power_14  |  None | 2.12700961859e-47  | 2.25719612766e-44 |\n",
      "|   power_15  |  None | -1.25761788068e-51 | 4.67866875645e-49 |\n",
      "+-------------+-------+--------------------+-------------------+\n",
      "[16 rows x 4 columns]\n",
      "\n"
     ]
    },
    {
     "data": {
      "text/plain": [
       "[<matplotlib.lines.Line2D at 0x13a2c240>,\n",
       " <matplotlib.lines.Line2D at 0x13a2c2b0>]"
      ]
     },
     "execution_count": 14,
     "metadata": {},
     "output_type": "execute_result"
    },
    {
     "data": {
      "image/png": "[encoded data removed]",
      "text/plain": [
       "<Figure size 432x288 with 1 Axes>"
      ]
     },
     "metadata": {
      "needs_background": "light"
     },
     "output_type": "display_data"
    }
   ],
   "source": [
    "poly3_data = polynomial_sframe(set_3['sqft_living'], 15) # use equivalent of `polynomial_sframe`\n",
    "my_features = poly3_data.column_names() \n",
    "poly3_data['price'] = set_3['price']\n",
    "model3 = graphlab.linear_regression.create(poly3_data, target = 'price', features = my_features, verbose = False, \n",
    "                                           validation_set = None, l2_penalty=l2_small_penalty)\n",
    "model3.get(\"coefficients\").print_rows(num_rows=16)\n",
    "plt.plot(poly3_data['power_1'],poly3_data['price'],'.',\n",
    "        poly3_data['power_1'], model3.predict(poly3_data),'-')"
   ]
  },
  {
   "cell_type": "code",
   "execution_count": 15,
   "metadata": {},
   "outputs": [
    {
     "name": "stdout",
     "output_type": "stream",
     "text": [
      "+-------------+-------+--------------------+-------------------+\n",
      "|     name    | index |       value        |       stderr      |\n",
      "+-------------+-------+--------------------+-------------------+\n",
      "| (intercept) |  None |   -205450.598395   |   750592.771445   |\n",
      "|   power_1   |  None |   1366.85452794    |   3415.39131514   |\n",
      "|   power_2   |  None |   -1.37772875665   |   5.92598382293   |\n",
      "|   power_3   |  None |  0.00066800847141  |  0.00479692760765 |\n",
      "|   power_4   |  None | -1.2348526611e-07  |  1.6245327948e-06 |\n",
      "|   power_5   |  None | -6.53793118368e-15 | 1.90844081183e-14 |\n",
      "|   power_6   |  None | -6.23353962181e-16 | 1.22361122831e-15 |\n",
      "|   power_7   |  None | 8.84426378897e-19  | 1.69158636496e-16 |\n",
      "|   power_8   |  None | -7.26066654992e-23 | 1.16410924448e-19 |\n",
      "|   power_9   |  None | -1.56773611843e-26 | 3.65775497897e-23 |\n",
      "|   power_10  |  None | -7.58341113055e-32 | 6.45475936491e-27 |\n",
      "|   power_11  |  None | 2.42930432531e-34  | 8.95460822744e-31 |\n",
      "|   power_12  |  None |  2.6068454021e-38  |  1.4963433225e-34 |\n",
      "|   power_13  |  None | -1.57323857192e-42 | 1.72157363099e-38 |\n",
      "|   power_14  |  None | -6.1383050732e-46  | 1.04210787264e-42 |\n",
      "|   power_15  |  None | 4.20632192848e-50  | 2.58555537543e-47 |\n",
      "+-------------+-------+--------------------+-------------------+\n",
      "[16 rows x 4 columns]\n",
      "\n"
     ]
    },
    {
     "data": {
      "text/plain": [
       "[<matplotlib.lines.Line2D at 0x13c65a90>,\n",
       " <matplotlib.lines.Line2D at 0x13c65b00>]"
      ]
     },
     "execution_count": 15,
     "metadata": {},
     "output_type": "execute_result"
    },
    {
     "data": {
      "image/png": "[encoded data removed]",
      "text/plain": [
       "<Figure size 432x288 with 1 Axes>"
      ]
     },
     "metadata": {
      "needs_background": "light"
     },
     "output_type": "display_data"
    }
   ],
   "source": [
    "poly4_data = polynomial_sframe(set_4['sqft_living'], 15) # use equivalent of `polynomial_sframe`\n",
    "my_features = poly4_data.column_names() \n",
    "poly4_data['price'] = set_4['price']\n",
    "model4 = graphlab.linear_regression.create(poly4_data, target = 'price', features = my_features, verbose = False, \n",
    "                                           validation_set = None, l2_penalty=l2_small_penalty)\n",
    "model4.get(\"coefficients\").print_rows(num_rows=16)\n",
    "plt.plot(poly4_data['power_1'],poly4_data['price'],'.',\n",
    "        poly4_data['power_1'], model4.predict(poly4_data),'-')\n"
   ]
  },
  {
   "cell_type": "code",
   "execution_count": null,
   "metadata": {},
   "outputs": [],
   "source": []
  }
 ],
 "metadata": {
  "kernelspec": {
   "display_name": "Python 2",
   "language": "python",
   "name": "python2"
  },
  "language_info": {
   "codemirror_mode": {
    "name": "ipython",
    "version": 2
   },
   "file_extension": ".py",
   "mimetype": "text/x-python",
   "name": "python",
   "nbconvert_exporter": "python",
   "pygments_lexer": "ipython2",
   "version": "2.7.16"
  }
 },
 "nbformat": 4,
 "nbformat_minor": 2
}
