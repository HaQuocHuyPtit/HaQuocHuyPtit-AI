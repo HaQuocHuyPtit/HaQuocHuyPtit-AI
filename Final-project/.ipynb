{
 "cells": [
  {
   "cell_type": "markdown",
   "metadata": {},
   "source": [
    "# All Regression Notebook\n",
    "## Load data\n",
    "Declare and load the library, then load the dataset. Since the data do not contain the naming of columns, we had to add it in using a manual Python list\n",
    "\n",
    "We will have `all_train_data` and `all_test_data`, which had been concatenated into their respective `DataFrame`."
   ]
  },
  {
   "cell_type": "code",
   "execution_count": 1,
   "metadata": {},
   "outputs": [],
   "source": [
    "import pandas\n",
    "import numpy as np\n",
    "import matplotlib.pyplot as plt\n",
    "%matplotlib inline"
   ]
  },
  {
   "cell_type": "code",
   "execution_count": 2,
   "metadata": {},
   "outputs": [
    {
     "data": {
      "text/plain": [
       "['Popularity',\n",
       " 'Check-in',\n",
       " 'Activities',\n",
       " 'Category',\n",
       " 'F_1',\n",
       " 'F_2',\n",
       " 'F_3',\n",
       " 'F_4',\n",
       " 'F_5',\n",
       " 'F_6',\n",
       " 'F_7',\n",
       " 'F_8',\n",
       " 'F_9',\n",
       " 'F_10',\n",
       " 'F_11',\n",
       " 'F_12',\n",
       " 'F_13',\n",
       " 'F_14',\n",
       " 'F_15',\n",
       " 'F_16',\n",
       " 'F_17',\n",
       " 'F_18',\n",
       " 'F_19',\n",
       " 'F_20',\n",
       " 'F_21',\n",
       " 'F_22',\n",
       " 'F_23',\n",
       " 'F_24',\n",
       " 'F_25',\n",
       " 'CC1',\n",
       " 'CC2',\n",
       " 'CC3',\n",
       " 'CC4',\n",
       " 'CC5',\n",
       " 'Base time',\n",
       " 'Post length',\n",
       " 'Post count',\n",
       " 'Post promotion',\n",
       " 'Span time',\n",
       " 'Post_date_1',\n",
       " 'Post_date_2',\n",
       " 'Post_date_3',\n",
       " 'Post_date_4',\n",
       " 'Post_date_5',\n",
       " 'Post_date_6',\n",
       " 'Post_date_7',\n",
       " 'Base_date_1',\n",
       " 'Base_date_2',\n",
       " 'Base_date_3',\n",
       " 'Base_date_4',\n",
       " 'Base_date_5',\n",
       " 'Base_date_6',\n",
       " 'Base_date_7',\n",
       " 'Span count']"
      ]
     },
     "execution_count": 2,
     "metadata": {},
     "output_type": "execute_result"
    }
   ],
   "source": [
    "columns_name = [\"Popularity\", \"Check-in\", \"Activities\", \"Category\"] \\\n",
    "            + [\"F_{:d}\".format(i) for i in range(1, 26)] \\\n",
    "            + [\"CC{:d}\".format(i) for i in range(1, 6)] \\\n",
    "            + [\"Base time\", \"Post length\", \"Post count\", \"Post promotion\", \"Span time\"] \\\n",
    "            + [\"Post_date_{:d}\".format(i) for i in range(1, 8)] \\\n",
    "            + [\"Base_date_{:d}\".format(i) for i in range(1, 8)] \\\n",
    "            + [\"Span count\"]\n",
    "columns_name"
   ]
  },
  {
   "cell_type": "code",
   "execution_count": 3,
   "metadata": {},
   "outputs": [],
   "source": [
    "import dask.dataframe as dd"
   ]
  },
  {
   "cell_type": "code",
   "execution_count": 5,
   "metadata": {},
   "outputs": [],
   "source": [
    "train_data = dd.read_csv('Dataset/Training/*.csv',header=None)\n",
    "train_data.columns = columns_name\n",
    "train_data = train_data.compute()"
   ]
  },
  {
   "cell_type": "code",
   "execution_count": 7,
   "metadata": {},
   "outputs": [],
   "source": [
    "test_data = dd.read_csv('Dataset/Testing/TestSet/*.csv',header=None)\n",
    "test_data.columns = columns_name\n",
    "test_data = test_data.compute()"
   ]
  },
  {
   "cell_type": "code",
   "execution_count": 8,
   "metadata": {},
   "outputs": [],
   "source": [
    "train_data['bias'] = 1\n",
    "test_data['bias'] = 1"
   ]
  },
  {
   "cell_type": "code",
   "execution_count": 9,
   "metadata": {},
   "outputs": [
    {
     "data": {
      "text/html": [
       "<div>\n",
       "<style scoped>\n",
       "    .dataframe tbody tr th:only-of-type {\n",
       "        vertical-align: middle;\n",
       "    }\n",
       "\n",
       "    .dataframe tbody tr th {\n",
       "        vertical-align: top;\n",
       "    }\n",
       "\n",
       "    .dataframe thead th {\n",
       "        text-align: right;\n",
       "    }\n",
       "</style>\n",
       "<table border=\"1\" class=\"dataframe\">\n",
       "  <thead>\n",
       "    <tr style=\"text-align: right;\">\n",
       "      <th></th>\n",
       "      <th>Popularity</th>\n",
       "      <th>Check-in</th>\n",
       "      <th>Activities</th>\n",
       "      <th>Category</th>\n",
       "      <th>F_1</th>\n",
       "      <th>F_2</th>\n",
       "      <th>F_3</th>\n",
       "      <th>F_4</th>\n",
       "      <th>F_5</th>\n",
       "      <th>F_6</th>\n",
       "      <th>...</th>\n",
       "      <th>Post_date_7</th>\n",
       "      <th>Base_date_1</th>\n",
       "      <th>Base_date_2</th>\n",
       "      <th>Base_date_3</th>\n",
       "      <th>Base_date_4</th>\n",
       "      <th>Base_date_5</th>\n",
       "      <th>Base_date_6</th>\n",
       "      <th>Base_date_7</th>\n",
       "      <th>Span count</th>\n",
       "      <th>bias</th>\n",
       "    </tr>\n",
       "  </thead>\n",
       "  <tbody>\n",
       "    <tr>\n",
       "      <td>0</td>\n",
       "      <td>634995</td>\n",
       "      <td>0</td>\n",
       "      <td>463</td>\n",
       "      <td>1</td>\n",
       "      <td>0.0</td>\n",
       "      <td>806.0</td>\n",
       "      <td>11.291045</td>\n",
       "      <td>1.0</td>\n",
       "      <td>70.495138</td>\n",
       "      <td>0.0</td>\n",
       "      <td>...</td>\n",
       "      <td>0</td>\n",
       "      <td>0</td>\n",
       "      <td>0</td>\n",
       "      <td>0</td>\n",
       "      <td>0</td>\n",
       "      <td>0</td>\n",
       "      <td>0</td>\n",
       "      <td>1</td>\n",
       "      <td>0</td>\n",
       "      <td>1</td>\n",
       "    </tr>\n",
       "    <tr>\n",
       "      <td>1</td>\n",
       "      <td>634995</td>\n",
       "      <td>0</td>\n",
       "      <td>463</td>\n",
       "      <td>1</td>\n",
       "      <td>0.0</td>\n",
       "      <td>806.0</td>\n",
       "      <td>11.291045</td>\n",
       "      <td>1.0</td>\n",
       "      <td>70.495138</td>\n",
       "      <td>0.0</td>\n",
       "      <td>...</td>\n",
       "      <td>0</td>\n",
       "      <td>0</td>\n",
       "      <td>0</td>\n",
       "      <td>0</td>\n",
       "      <td>0</td>\n",
       "      <td>0</td>\n",
       "      <td>1</td>\n",
       "      <td>0</td>\n",
       "      <td>0</td>\n",
       "      <td>1</td>\n",
       "    </tr>\n",
       "    <tr>\n",
       "      <td>2</td>\n",
       "      <td>634995</td>\n",
       "      <td>0</td>\n",
       "      <td>463</td>\n",
       "      <td>1</td>\n",
       "      <td>0.0</td>\n",
       "      <td>806.0</td>\n",
       "      <td>11.291045</td>\n",
       "      <td>1.0</td>\n",
       "      <td>70.495138</td>\n",
       "      <td>0.0</td>\n",
       "      <td>...</td>\n",
       "      <td>0</td>\n",
       "      <td>0</td>\n",
       "      <td>0</td>\n",
       "      <td>0</td>\n",
       "      <td>0</td>\n",
       "      <td>0</td>\n",
       "      <td>0</td>\n",
       "      <td>1</td>\n",
       "      <td>0</td>\n",
       "      <td>1</td>\n",
       "    </tr>\n",
       "    <tr>\n",
       "      <td>3</td>\n",
       "      <td>634995</td>\n",
       "      <td>0</td>\n",
       "      <td>463</td>\n",
       "      <td>1</td>\n",
       "      <td>0.0</td>\n",
       "      <td>806.0</td>\n",
       "      <td>11.291045</td>\n",
       "      <td>1.0</td>\n",
       "      <td>70.495138</td>\n",
       "      <td>0.0</td>\n",
       "      <td>...</td>\n",
       "      <td>0</td>\n",
       "      <td>0</td>\n",
       "      <td>1</td>\n",
       "      <td>0</td>\n",
       "      <td>0</td>\n",
       "      <td>0</td>\n",
       "      <td>0</td>\n",
       "      <td>0</td>\n",
       "      <td>0</td>\n",
       "      <td>1</td>\n",
       "    </tr>\n",
       "    <tr>\n",
       "      <td>4</td>\n",
       "      <td>634995</td>\n",
       "      <td>0</td>\n",
       "      <td>463</td>\n",
       "      <td>1</td>\n",
       "      <td>0.0</td>\n",
       "      <td>806.0</td>\n",
       "      <td>11.291045</td>\n",
       "      <td>1.0</td>\n",
       "      <td>70.495138</td>\n",
       "      <td>0.0</td>\n",
       "      <td>...</td>\n",
       "      <td>0</td>\n",
       "      <td>0</td>\n",
       "      <td>0</td>\n",
       "      <td>0</td>\n",
       "      <td>1</td>\n",
       "      <td>0</td>\n",
       "      <td>0</td>\n",
       "      <td>0</td>\n",
       "      <td>0</td>\n",
       "      <td>1</td>\n",
       "    </tr>\n",
       "  </tbody>\n",
       "</table>\n",
       "<p>5 rows × 55 columns</p>\n",
       "</div>"
      ],
      "text/plain": [
       "   Popularity  Check-in  Activities  Category  F_1    F_2        F_3  F_4  \\\n",
       "0      634995         0         463         1  0.0  806.0  11.291045  1.0   \n",
       "1      634995         0         463         1  0.0  806.0  11.291045  1.0   \n",
       "2      634995         0         463         1  0.0  806.0  11.291045  1.0   \n",
       "3      634995         0         463         1  0.0  806.0  11.291045  1.0   \n",
       "4      634995         0         463         1  0.0  806.0  11.291045  1.0   \n",
       "\n",
       "         F_5  F_6  ...  Post_date_7  Base_date_1  Base_date_2  Base_date_3  \\\n",
       "0  70.495138  0.0  ...            0            0            0            0   \n",
       "1  70.495138  0.0  ...            0            0            0            0   \n",
       "2  70.495138  0.0  ...            0            0            0            0   \n",
       "3  70.495138  0.0  ...            0            0            1            0   \n",
       "4  70.495138  0.0  ...            0            0            0            0   \n",
       "\n",
       "   Base_date_4  Base_date_5  Base_date_6  Base_date_7  Span count  bias  \n",
       "0            0            0            0            1           0     1  \n",
       "1            0            0            1            0           0     1  \n",
       "2            0            0            0            1           0     1  \n",
       "3            0            0            0            0           0     1  \n",
       "4            1            0            0            0           0     1  \n",
       "\n",
       "[5 rows x 55 columns]"
      ]
     },
     "execution_count": 9,
     "metadata": {},
     "output_type": "execute_result"
    }
   ],
   "source": [
    "train_data.head()"
   ]
  },
  {
   "cell_type": "markdown",
   "metadata": {},
   "source": [
    "## Selecting sub-category\n",
    "The Category column contain arbitrary indices of the data category relating to the nature of the post itself. For the sake of simplification, we will just use the category with the largest amount of data to perform our Linear regression on.\n",
    "\n",
    "Find and select the category with the most amount of records using pandas. Store it in the variable `largest_category`"
   ]
  },
  {
   "cell_type": "code",
   "execution_count": 10,
   "metadata": {},
   "outputs": [
    {
     "data": {
      "text/plain": [
       "9     110313\n",
       "24     66473\n",
       "18     63314\n",
       "36     35163\n",
       "16     27805\n",
       "       ...  \n",
       "62       232\n",
       "63        58\n",
       "58        29\n",
       "83        15\n",
       "93        15\n",
       "Name: Category, Length: 81, dtype: int64"
      ]
     },
     "execution_count": 10,
     "metadata": {},
     "output_type": "execute_result"
    }
   ],
   "source": [
    "train_data.Category.value_counts()"
   ]
  },
  {
   "cell_type": "code",
   "execution_count": 11,
   "metadata": {},
   "outputs": [],
   "source": [
    "largest_category = 9"
   ]
  },
  {
   "cell_type": "code",
   "execution_count": 12,
   "metadata": {},
   "outputs": [],
   "source": [
    "# Categorize models\n",
    "train_data = train_data.loc[train_data['Category'] == largest_category].drop('Category', axis=1)\n",
    "test_data = test_data.loc[test_data['Category'] == largest_category].drop('Category', axis=1)\n",
    "\n",
    "label = \"Span count\"\n",
    "features = [col for col in train_data.columns if col != label]\n",
    "\n",
    "train_features = train_data[ features ]\n",
    "train_labels = train_data[ label ]\n",
    "test_features = test_data[ features ]\n",
    "test_labels = test_data[ label ]"
   ]
  },
  {
   "cell_type": "markdown",
   "metadata": {},
   "source": [
    "## A basic correlation\n",
    "As a little exercise, we will draw a correlation matrix between CC? variables. Correlation are useful to see if there are features that are too closely connected - and we don't want those together as they will introduce artificial noises that will overfit the model."
   ]
  },
  {
   "cell_type": "code",
   "execution_count": 13,
   "metadata": {},
   "outputs": [
    {
     "data": {
      "image/png": "[encoded data removed]",
      "text/plain": [
       "<Figure size 432x432 with 1 Axes>"
      ]
     },
     "metadata": {
      "needs_background": "light"
     },
     "output_type": "display_data"
    }
   ],
   "source": [
    "subdata = train_data[(col for col in train_data.columns if \"CC\" in col)]\n",
    "correlation_matrix = subdata.corr()\n",
    "\n",
    "fig, ax = plt.subplots(figsize=(6, 6))\n",
    "ax.matshow(correlation_matrix)\n",
    "\n",
    "# this two lines may cause trouble with different versions of matplotlib. If it fail, try to delete and see.\n",
    "plt.xticks(np.arange(len(correlation_matrix.columns)))\n",
    "plt.yticks(np.arange(len(correlation_matrix.columns)))\n",
    "\n",
    "ax.set_xticklabels(correlation_matrix.columns.values.tolist())\n",
    "ax.set_yticklabels(correlation_matrix.columns.values.tolist())\n",
    "plt.xticks(rotation=90)\n",
    "\n",
    "for i, column in enumerate(correlation_matrix.values):\n",
    "    for j, value in enumerate(column):\n",
    "        text = ax.text(j, i, \"%.2f\" % value,\n",
    "                       ha=\"center\", va=\"center\", color=\"black\")\n",
    "plt.show()"
   ]
  },
  {
   "cell_type": "markdown",
   "metadata": {},
   "source": [
    "## Build Regression Models\n",
    "\n",
    "__Our task is to predict the number of comments the post will receive (\"Span count\" column)__ <br>\n",
    "\"Span time\" is necessary, while all other columns are optional <br>\n",
    "Try a simple Multiple Regression model with only the basic features: <br>\n",
    "[\"Popularity\", \"Base time\", \"Post length\", \"Post count\", \"Span time\", \"bias\"] <br>\n",
    "\n",
    "Print out either the MSE score from sklearn or the RSS score learned from the course for both training and testing dataset"
   ]
  },
  {
   "cell_type": "code",
   "execution_count": 14,
   "metadata": {},
   "outputs": [],
   "source": [
    "basic_features = [\"Popularity\", \"Base time\", \"Post length\", \"Post count\", \"Span time\", \"bias\"]"
   ]
  },
  {
   "cell_type": "code",
   "execution_count": 17,
   "metadata": {},
   "outputs": [],
   "source": [
    "from sklearn.preprocessing import StandardScaler\n",
    "scaler = StandardScaler()\n",
    "\n",
    "basic_train_features = scaler.fit_transform(train_data[basic_features])\n",
    "train_output = train_data[label]\n",
    "\n",
    "basic_test_features = scaler.transform(test_data[basic_features])\n",
    "test_output = test_data[label]"
   ]
  },
  {
   "cell_type": "code",
   "execution_count": 18,
   "metadata": {},
   "outputs": [],
   "source": [
    "from sklearn.linear_model import LinearRegression\n",
    "model = LinearRegression().fit(basic_train_features, train_output)"
   ]
  },
  {
   "cell_type": "code",
   "execution_count": 19,
   "metadata": {},
   "outputs": [
    {
     "name": "stdout",
     "output_type": "stream",
     "text": [
      "MSE of basic_train_features :1689.57 \n"
     ]
    }
   ],
   "source": [
    "from sklearn.metrics import mean_squared_error\n",
    "print(\"MSE of train :{:.2f} \".format(mean_squared_error(train_output, model.predict(basic_train_features))))"
   ]
  },
  {
   "cell_type": "code",
   "execution_count": 20,
   "metadata": {},
   "outputs": [
    {
     "name": "stdout",
     "output_type": "stream",
     "text": [
      "MSE of test :5477.09\n"
     ]
    }
   ],
   "source": [
    "print(\"MSE of test :{:.2f}\".format(mean_squared_error(test_output, model.predict(basic_test_features))))"
   ]
  },
  {
   "cell_type": "markdown",
   "metadata": {},
   "source": [
    "### Try improving with more features\n",
    "Not the greatest model we could use. We should try to add even more relevant features. <br>Append all the CC properties to the features and try again, with the same metrics."
   ]
  },
  {
   "cell_type": "code",
   "execution_count": 23,
   "metadata": {},
   "outputs": [],
   "source": [
    "more_features = basic_features + [\"CC{:d}\".format(i) for i in range(1,6)]"
   ]
  },
  {
   "cell_type": "code",
   "execution_count": 25,
   "metadata": {},
   "outputs": [
    {
     "name": "stdout",
     "output_type": "stream",
     "text": [
      "MSE of train: 1535.02\n",
      "MSE of test: 3999.83\n"
     ]
    }
   ],
   "source": [
    "more_train_features = train_data[more_features]\n",
    "more_test_features = test_data[more_features]\n",
    "\n",
    "model = LinearRegression().fit(more_train_features, train_output)\n",
    "print(\"MSE of train: {:.2f}\".format(mean_squared_error(train_output, model.predict(more_train_features))))\n",
    "print(\"MSE of test: {:.2f}\".format(mean_squared_error(test_output, model.predict(more_test_features))))"
   ]
  },
  {
   "cell_type": "markdown",
   "metadata": {},
   "source": [
    "Moral of the day: Premature optimization are rarely ever worth it.\n",
    "\n",
    "## Resolve overfit\n",
    "### Applying resolution for overfit\n",
    "\n",
    "The discrepancy between the score of the training and testing indicate that we may be overfitting the model. Let's try to fix it. Span the Ridge regression with alpha along logspace between 0 and 10, record the value with the best performance as variable `best_alpha`, and *optionally draw a graph for the coefficients magnitude*."
   ]
  },
  {
   "cell_type": "code",
   "execution_count": 26,
   "metadata": {},
   "outputs": [],
   "source": [
    "from sklearn.linear_model import Ridge"
   ]
  },
  {
   "cell_type": "code",
   "execution_count": 45,
   "metadata": {},
   "outputs": [
    {
     "name": "stderr",
     "output_type": "stream",
     "text": [
      "C:\\ProgramData\\Anaconda3\\lib\\site-packages\\sklearn\\linear_model\\ridge.py:147: LinAlgWarning: Ill-conditioned matrix (rcond=1.42216e-18): result may not be accurate.\n",
      "  overwrite_a=True).T\n",
      "C:\\ProgramData\\Anaconda3\\lib\\site-packages\\sklearn\\linear_model\\ridge.py:147: LinAlgWarning: Ill-conditioned matrix (rcond=4.49728e-18): result may not be accurate.\n",
      "  overwrite_a=True).T\n",
      "C:\\ProgramData\\Anaconda3\\lib\\site-packages\\sklearn\\linear_model\\ridge.py:147: LinAlgWarning: Ill-conditioned matrix (rcond=1.42216e-17): result may not be accurate.\n",
      "  overwrite_a=True).T\n",
      "C:\\ProgramData\\Anaconda3\\lib\\site-packages\\sklearn\\linear_model\\ridge.py:147: LinAlgWarning: Ill-conditioned matrix (rcond=4.49728e-17): result may not be accurate.\n",
      "  overwrite_a=True).T\n"
     ]
    },
    {
     "data": {
      "text/plain": [
       "[3999.827143097441,\n",
       " 3999.8272907976902,\n",
       " 3999.82775786262,\n",
       " 3999.829234808918,\n",
       " 3999.833904896332,\n",
       " 3999.8486687419054,\n",
       " 3999.895313484123,\n",
       " 4000.042391954231,\n",
       " 4000.503281389721,\n",
       " 4001.919780613264,\n",
       " 4006.023920125091,\n",
       " 4016.107694892367,\n",
       " 4033.202565807952,\n",
       " 4049.823749077407,\n",
       " 4061.4525554330103,\n",
       " 4077.4071989766276,\n",
       " 4100.288191899557,\n",
       " 4117.613728689835,\n",
       " 4178.609602459862,\n",
       " 4456.801434233608,\n",
       " 4996.693398213989]"
      ]
     },
     "execution_count": 45,
     "metadata": {},
     "output_type": "execute_result"
    }
   ],
   "source": [
    "test_MSE = []\n",
    "min_MSE = None\n",
    "weight = []\n",
    "for l2_penalty in np.logspace(0, 10, num=21):\n",
    "    model = Ridge(alpha=l2_penalty).fit(more_train_features, train_output)\n",
    "    weight.append(model.coef_)\n",
    "    MSE = mean_squared_error(test_output, model.predict(more_test_features))\n",
    "    test_MSE.append(MSE)\n",
    "    if min_MSE is None or min_MSE > MSE:\n",
    "        min_MSE = MSE\n",
    "        best_alpha = l2_penalty\n",
    "test_MSE"
   ]
  },
  {
   "cell_type": "code",
   "execution_count": 46,
   "metadata": {},
   "outputs": [
    {
     "data": {
      "text/plain": [
       "1.0"
      ]
     },
     "execution_count": 46,
     "metadata": {},
     "output_type": "execute_result"
    }
   ],
   "source": [
    "best_alpha"
   ]
  },
  {
   "cell_type": "code",
   "execution_count": 47,
   "metadata": {},
   "outputs": [
    {
     "data": {
      "text/html": [
       "<div>\n",
       "<style scoped>\n",
       "    .dataframe tbody tr th:only-of-type {\n",
       "        vertical-align: middle;\n",
       "    }\n",
       "\n",
       "    .dataframe tbody tr th {\n",
       "        vertical-align: top;\n",
       "    }\n",
       "\n",
       "    .dataframe thead th {\n",
       "        text-align: right;\n",
       "    }\n",
       "</style>\n",
       "<table border=\"1\" class=\"dataframe\">\n",
       "  <thead>\n",
       "    <tr style=\"text-align: right;\">\n",
       "      <th></th>\n",
       "      <th>0</th>\n",
       "      <th>1</th>\n",
       "      <th>2</th>\n",
       "      <th>3</th>\n",
       "      <th>4</th>\n",
       "      <th>5</th>\n",
       "      <th>6</th>\n",
       "      <th>7</th>\n",
       "      <th>8</th>\n",
       "      <th>9</th>\n",
       "      <th>10</th>\n",
       "    </tr>\n",
       "  </thead>\n",
       "  <tbody>\n",
       "    <tr>\n",
       "      <td>0</td>\n",
       "      <td>9.919798e-07</td>\n",
       "      <td>-0.430641</td>\n",
       "      <td>0.000307</td>\n",
       "      <td>0.011274</td>\n",
       "      <td>0.234792</td>\n",
       "      <td>0.0</td>\n",
       "      <td>0.033801</td>\n",
       "      <td>0.082202</td>\n",
       "      <td>0.027166</td>\n",
       "      <td>-0.042422</td>\n",
       "      <td>0.055034</td>\n",
       "    </tr>\n",
       "    <tr>\n",
       "      <td>1</td>\n",
       "      <td>9.919798e-07</td>\n",
       "      <td>-0.430641</td>\n",
       "      <td>0.000307</td>\n",
       "      <td>0.011274</td>\n",
       "      <td>0.234791</td>\n",
       "      <td>0.0</td>\n",
       "      <td>0.033801</td>\n",
       "      <td>0.082201</td>\n",
       "      <td>0.027166</td>\n",
       "      <td>-0.042422</td>\n",
       "      <td>0.055035</td>\n",
       "    </tr>\n",
       "    <tr>\n",
       "      <td>2</td>\n",
       "      <td>9.919798e-07</td>\n",
       "      <td>-0.430641</td>\n",
       "      <td>0.000307</td>\n",
       "      <td>0.011274</td>\n",
       "      <td>0.234789</td>\n",
       "      <td>0.0</td>\n",
       "      <td>0.033801</td>\n",
       "      <td>0.082201</td>\n",
       "      <td>0.027166</td>\n",
       "      <td>-0.042422</td>\n",
       "      <td>0.055035</td>\n",
       "    </tr>\n",
       "    <tr>\n",
       "      <td>3</td>\n",
       "      <td>9.919798e-07</td>\n",
       "      <td>-0.430641</td>\n",
       "      <td>0.000307</td>\n",
       "      <td>0.011274</td>\n",
       "      <td>0.234782</td>\n",
       "      <td>0.0</td>\n",
       "      <td>0.033801</td>\n",
       "      <td>0.082201</td>\n",
       "      <td>0.027166</td>\n",
       "      <td>-0.042422</td>\n",
       "      <td>0.055035</td>\n",
       "    </tr>\n",
       "    <tr>\n",
       "      <td>4</td>\n",
       "      <td>9.919799e-07</td>\n",
       "      <td>-0.430640</td>\n",
       "      <td>0.000307</td>\n",
       "      <td>0.011274</td>\n",
       "      <td>0.234761</td>\n",
       "      <td>0.0</td>\n",
       "      <td>0.033800</td>\n",
       "      <td>0.082201</td>\n",
       "      <td>0.027166</td>\n",
       "      <td>-0.042421</td>\n",
       "      <td>0.055035</td>\n",
       "    </tr>\n",
       "    <tr>\n",
       "      <td>5</td>\n",
       "      <td>9.919800e-07</td>\n",
       "      <td>-0.430638</td>\n",
       "      <td>0.000307</td>\n",
       "      <td>0.011274</td>\n",
       "      <td>0.234695</td>\n",
       "      <td>0.0</td>\n",
       "      <td>0.033797</td>\n",
       "      <td>0.082201</td>\n",
       "      <td>0.027166</td>\n",
       "      <td>-0.042419</td>\n",
       "      <td>0.055035</td>\n",
       "    </tr>\n",
       "    <tr>\n",
       "      <td>6</td>\n",
       "      <td>9.919805e-07</td>\n",
       "      <td>-0.430631</td>\n",
       "      <td>0.000307</td>\n",
       "      <td>0.011274</td>\n",
       "      <td>0.234484</td>\n",
       "      <td>0.0</td>\n",
       "      <td>0.033789</td>\n",
       "      <td>0.082201</td>\n",
       "      <td>0.027166</td>\n",
       "      <td>-0.042410</td>\n",
       "      <td>0.055035</td>\n",
       "    </tr>\n",
       "    <tr>\n",
       "      <td>7</td>\n",
       "      <td>9.919821e-07</td>\n",
       "      <td>-0.430609</td>\n",
       "      <td>0.000307</td>\n",
       "      <td>0.011274</td>\n",
       "      <td>0.233822</td>\n",
       "      <td>0.0</td>\n",
       "      <td>0.033763</td>\n",
       "      <td>0.082202</td>\n",
       "      <td>0.027166</td>\n",
       "      <td>-0.042384</td>\n",
       "      <td>0.055036</td>\n",
       "    </tr>\n",
       "    <tr>\n",
       "      <td>8</td>\n",
       "      <td>9.919873e-07</td>\n",
       "      <td>-0.430537</td>\n",
       "      <td>0.000307</td>\n",
       "      <td>0.011275</td>\n",
       "      <td>0.231753</td>\n",
       "      <td>0.0</td>\n",
       "      <td>0.033682</td>\n",
       "      <td>0.082203</td>\n",
       "      <td>0.027166</td>\n",
       "      <td>-0.042301</td>\n",
       "      <td>0.055037</td>\n",
       "    </tr>\n",
       "    <tr>\n",
       "      <td>9</td>\n",
       "      <td>9.920048e-07</td>\n",
       "      <td>-0.430312</td>\n",
       "      <td>0.000306</td>\n",
       "      <td>0.011276</td>\n",
       "      <td>0.225444</td>\n",
       "      <td>0.0</td>\n",
       "      <td>0.033427</td>\n",
       "      <td>0.082208</td>\n",
       "      <td>0.027166</td>\n",
       "      <td>-0.042043</td>\n",
       "      <td>0.055043</td>\n",
       "    </tr>\n",
       "    <tr>\n",
       "      <td>10</td>\n",
       "      <td>9.920706e-07</td>\n",
       "      <td>-0.429590</td>\n",
       "      <td>0.000306</td>\n",
       "      <td>0.011280</td>\n",
       "      <td>0.207586</td>\n",
       "      <td>0.0</td>\n",
       "      <td>0.032651</td>\n",
       "      <td>0.082228</td>\n",
       "      <td>0.027169</td>\n",
       "      <td>-0.041258</td>\n",
       "      <td>0.055059</td>\n",
       "    </tr>\n",
       "    <tr>\n",
       "      <td>11</td>\n",
       "      <td>9.923461e-07</td>\n",
       "      <td>-0.427261</td>\n",
       "      <td>0.000305</td>\n",
       "      <td>0.011290</td>\n",
       "      <td>0.166081</td>\n",
       "      <td>0.0</td>\n",
       "      <td>0.030423</td>\n",
       "      <td>0.082316</td>\n",
       "      <td>0.027209</td>\n",
       "      <td>-0.039030</td>\n",
       "      <td>0.055106</td>\n",
       "    </tr>\n",
       "    <tr>\n",
       "      <td>12</td>\n",
       "      <td>9.934164e-07</td>\n",
       "      <td>-0.419797</td>\n",
       "      <td>0.000307</td>\n",
       "      <td>0.011313</td>\n",
       "      <td>0.102039</td>\n",
       "      <td>0.0</td>\n",
       "      <td>0.024818</td>\n",
       "      <td>0.082718</td>\n",
       "      <td>0.027478</td>\n",
       "      <td>-0.033561</td>\n",
       "      <td>0.055240</td>\n",
       "    </tr>\n",
       "    <tr>\n",
       "      <td>13</td>\n",
       "      <td>9.963283e-07</td>\n",
       "      <td>-0.397454</td>\n",
       "      <td>0.000319</td>\n",
       "      <td>0.011357</td>\n",
       "      <td>0.046567</td>\n",
       "      <td>0.0</td>\n",
       "      <td>0.013833</td>\n",
       "      <td>0.084277</td>\n",
       "      <td>0.028614</td>\n",
       "      <td>-0.023425</td>\n",
       "      <td>0.055663</td>\n",
       "    </tr>\n",
       "    <tr>\n",
       "      <td>14</td>\n",
       "      <td>1.001391e-06</td>\n",
       "      <td>-0.340685</td>\n",
       "      <td>0.000348</td>\n",
       "      <td>0.011436</td>\n",
       "      <td>0.017796</td>\n",
       "      <td>0.0</td>\n",
       "      <td>-0.000100</td>\n",
       "      <td>0.088691</td>\n",
       "      <td>0.031769</td>\n",
       "      <td>-0.012441</td>\n",
       "      <td>0.056922</td>\n",
       "    </tr>\n",
       "    <tr>\n",
       "      <td>15</td>\n",
       "      <td>1.008405e-06</td>\n",
       "      <td>-0.237314</td>\n",
       "      <td>0.000389</td>\n",
       "      <td>0.011550</td>\n",
       "      <td>0.006426</td>\n",
       "      <td>0.0</td>\n",
       "      <td>-0.010171</td>\n",
       "      <td>0.095331</td>\n",
       "      <td>0.035950</td>\n",
       "      <td>-0.007175</td>\n",
       "      <td>0.059381</td>\n",
       "    </tr>\n",
       "    <tr>\n",
       "      <td>16</td>\n",
       "      <td>1.019189e-06</td>\n",
       "      <td>-0.126015</td>\n",
       "      <td>0.000426</td>\n",
       "      <td>0.011652</td>\n",
       "      <td>0.002227</td>\n",
       "      <td>0.0</td>\n",
       "      <td>-0.012036</td>\n",
       "      <td>0.094470</td>\n",
       "      <td>0.032881</td>\n",
       "      <td>-0.004835</td>\n",
       "      <td>0.061589</td>\n",
       "    </tr>\n",
       "    <tr>\n",
       "      <td>17</td>\n",
       "      <td>1.040322e-06</td>\n",
       "      <td>-0.054958</td>\n",
       "      <td>0.000437</td>\n",
       "      <td>0.011740</td>\n",
       "      <td>0.000743</td>\n",
       "      <td>0.0</td>\n",
       "      <td>-0.005698</td>\n",
       "      <td>0.077211</td>\n",
       "      <td>0.016673</td>\n",
       "      <td>0.000257</td>\n",
       "      <td>0.060538</td>\n",
       "    </tr>\n",
       "    <tr>\n",
       "      <td>18</td>\n",
       "      <td>1.086655e-06</td>\n",
       "      <td>-0.021729</td>\n",
       "      <td>0.000409</td>\n",
       "      <td>0.011973</td>\n",
       "      <td>0.000258</td>\n",
       "      <td>0.0</td>\n",
       "      <td>0.001998</td>\n",
       "      <td>0.052012</td>\n",
       "      <td>-0.000329</td>\n",
       "      <td>0.005467</td>\n",
       "      <td>0.052340</td>\n",
       "    </tr>\n",
       "    <tr>\n",
       "      <td>19</td>\n",
       "      <td>1.176447e-06</td>\n",
       "      <td>-0.008181</td>\n",
       "      <td>0.000318</td>\n",
       "      <td>0.012351</td>\n",
       "      <td>0.000097</td>\n",
       "      <td>0.0</td>\n",
       "      <td>0.004880</td>\n",
       "      <td>0.029672</td>\n",
       "      <td>-0.005615</td>\n",
       "      <td>0.006516</td>\n",
       "      <td>0.035287</td>\n",
       "    </tr>\n",
       "    <tr>\n",
       "      <td>20</td>\n",
       "      <td>1.309690e-06</td>\n",
       "      <td>-0.002920</td>\n",
       "      <td>0.000167</td>\n",
       "      <td>0.012042</td>\n",
       "      <td>0.000036</td>\n",
       "      <td>0.0</td>\n",
       "      <td>0.003974</td>\n",
       "      <td>0.013770</td>\n",
       "      <td>-0.003458</td>\n",
       "      <td>0.004594</td>\n",
       "      <td>0.017228</td>\n",
       "    </tr>\n",
       "  </tbody>\n",
       "</table>\n",
       "</div>"
      ],
      "text/plain": [
       "               0         1         2         3         4    5         6  \\\n",
       "0   9.919798e-07 -0.430641  0.000307  0.011274  0.234792  0.0  0.033801   \n",
       "1   9.919798e-07 -0.430641  0.000307  0.011274  0.234791  0.0  0.033801   \n",
       "2   9.919798e-07 -0.430641  0.000307  0.011274  0.234789  0.0  0.033801   \n",
       "3   9.919798e-07 -0.430641  0.000307  0.011274  0.234782  0.0  0.033801   \n",
       "4   9.919799e-07 -0.430640  0.000307  0.011274  0.234761  0.0  0.033800   \n",
       "5   9.919800e-07 -0.430638  0.000307  0.011274  0.234695  0.0  0.033797   \n",
       "6   9.919805e-07 -0.430631  0.000307  0.011274  0.234484  0.0  0.033789   \n",
       "7   9.919821e-07 -0.430609  0.000307  0.011274  0.233822  0.0  0.033763   \n",
       "8   9.919873e-07 -0.430537  0.000307  0.011275  0.231753  0.0  0.033682   \n",
       "9   9.920048e-07 -0.430312  0.000306  0.011276  0.225444  0.0  0.033427   \n",
       "10  9.920706e-07 -0.429590  0.000306  0.011280  0.207586  0.0  0.032651   \n",
       "11  9.923461e-07 -0.427261  0.000305  0.011290  0.166081  0.0  0.030423   \n",
       "12  9.934164e-07 -0.419797  0.000307  0.011313  0.102039  0.0  0.024818   \n",
       "13  9.963283e-07 -0.397454  0.000319  0.011357  0.046567  0.0  0.013833   \n",
       "14  1.001391e-06 -0.340685  0.000348  0.011436  0.017796  0.0 -0.000100   \n",
       "15  1.008405e-06 -0.237314  0.000389  0.011550  0.006426  0.0 -0.010171   \n",
       "16  1.019189e-06 -0.126015  0.000426  0.011652  0.002227  0.0 -0.012036   \n",
       "17  1.040322e-06 -0.054958  0.000437  0.011740  0.000743  0.0 -0.005698   \n",
       "18  1.086655e-06 -0.021729  0.000409  0.011973  0.000258  0.0  0.001998   \n",
       "19  1.176447e-06 -0.008181  0.000318  0.012351  0.000097  0.0  0.004880   \n",
       "20  1.309690e-06 -0.002920  0.000167  0.012042  0.000036  0.0  0.003974   \n",
       "\n",
       "           7         8         9        10  \n",
       "0   0.082202  0.027166 -0.042422  0.055034  \n",
       "1   0.082201  0.027166 -0.042422  0.055035  \n",
       "2   0.082201  0.027166 -0.042422  0.055035  \n",
       "3   0.082201  0.027166 -0.042422  0.055035  \n",
       "4   0.082201  0.027166 -0.042421  0.055035  \n",
       "5   0.082201  0.027166 -0.042419  0.055035  \n",
       "6   0.082201  0.027166 -0.042410  0.055035  \n",
       "7   0.082202  0.027166 -0.042384  0.055036  \n",
       "8   0.082203  0.027166 -0.042301  0.055037  \n",
       "9   0.082208  0.027166 -0.042043  0.055043  \n",
       "10  0.082228  0.027169 -0.041258  0.055059  \n",
       "11  0.082316  0.027209 -0.039030  0.055106  \n",
       "12  0.082718  0.027478 -0.033561  0.055240  \n",
       "13  0.084277  0.028614 -0.023425  0.055663  \n",
       "14  0.088691  0.031769 -0.012441  0.056922  \n",
       "15  0.095331  0.035950 -0.007175  0.059381  \n",
       "16  0.094470  0.032881 -0.004835  0.061589  \n",
       "17  0.077211  0.016673  0.000257  0.060538  \n",
       "18  0.052012 -0.000329  0.005467  0.052340  \n",
       "19  0.029672 -0.005615  0.006516  0.035287  \n",
       "20  0.013770 -0.003458  0.004594  0.017228  "
      ]
     },
     "execution_count": 47,
     "metadata": {},
     "output_type": "execute_result"
    }
   ],
   "source": [
    "weight = pandas.DataFrame(weight)\n",
    "weight"
   ]
  },
  {
   "cell_type": "code",
   "execution_count": 48,
   "metadata": {},
   "outputs": [
    {
     "data": {
      "image/png": "[encoded data removed]",
      "text/plain": [
       "<Figure size 432x288 with 1 Axes>"
      ]
     },
     "metadata": {
      "needs_background": "light"
     },
     "output_type": "display_data"
    }
   ],
   "source": [
    "x = np.logspace(0, 10, num=21)\n",
    "for i in range(len(more_features)):\n",
    "    plt.plot(x, weight.iloc[:,i], label = \"weight {:d}\".format(i))\n",
    "plt.xscale('log')\n",
    "plt.xlabel('alpha')\n",
    "\n",
    "plt.ylabel('weights')\n",
    "plt.legend(loc=\"lower right\",fontsize='x-small')\n",
    "plt.show()"
   ]
  },
  {
   "cell_type": "markdown",
   "metadata": {},
   "source": [
    "### Try Ridge Regression on every columns\n",
    "It worked, but one have to wonder if we are still using the incomplete set of features instead of the optimal one. Expand the features to all columns except our designated label. Run and see what happens."
   ]
  },
  {
   "cell_type": "code",
   "execution_count": 49,
   "metadata": {},
   "outputs": [
    {
     "name": "stdout",
     "output_type": "stream",
     "text": [
      "MSE on training: 1512.2733; MSE on test: 4121.6797\n"
     ]
    }
   ],
   "source": [
    "label = \"Span count\"\n",
    "features = [col for col in train_data.columns if col != label]\n",
    "\n",
    "train_features = train_data[ features ]\n",
    "train_labels = train_data[ label ]\n",
    "test_features = test_data[ features ]\n",
    "test_labels = test_data[ label ]\n",
    "\n",
    "train_features = scaler.fit_transform(train_features)\n",
    "test_features = scaler.transform(test_features)\n",
    "\n",
    "multi_model = Ridge(alpha = best_alpha)\n",
    "multi_model.fit(train_features, train_labels)\n",
    "test_predictions = multi_model.predict(test_features)\n",
    "\n",
    "test_mse_score = mean_squared_error(test_labels, test_predictions)\n",
    "train_mse_score = mean_squared_error(train_labels, multi_model.predict(train_features))\n",
    "print(\"MSE on training: {:.4f}; MSE on test: {:.4f}\".format(train_mse_score, test_mse_score))"
   ]
  },
  {
   "cell_type": "markdown",
   "metadata": {},
   "source": [
    "## Features selection\n",
    "### Apply LASSO\n",
    "Now, we can try trimming the features using something we had learned throughout the course. This time record the selected features of LASSO using variable `lasso_selected_features`, and <i>optionally draw a graph between number of removed features and alpha values</i>."
   ]
  },
  {
   "cell_type": "code",
   "execution_count": 39,
   "metadata": {},
   "outputs": [],
   "source": [
    "from sklearn.linear_model import Lasso"
   ]
  },
  {
   "cell_type": "code",
   "execution_count": 51,
   "metadata": {},
   "outputs": [],
   "source": [
    "nonzero_list = []\n",
    "test_MSE = []\n",
    "min_MSE = None\n",
    "for l1_penalty in np.logspace(0, 10, num=21):\n",
    "    model = Lasso(alpha=l1_penalty).fit(train_features, train_labels)\n",
    "    nonzero_list.append(np.count_nonzero(model.coef_))\n",
    "    MSE = mean_squared_error(test_labels, model.predict(test_features))\n",
    "    test_MSE.append(MSE)\n",
    "    if min_MSE is None or min_MSE > MSE:\n",
    "        min_MSE = MSE\n",
    "        best_alpha = l1_penalty"
   ]
  },
  {
   "cell_type": "code",
   "execution_count": 52,
   "metadata": {},
   "outputs": [
    {
     "data": {
      "text/plain": [
       "3.1622776601683795"
      ]
     },
     "execution_count": 52,
     "metadata": {},
     "output_type": "execute_result"
    }
   ],
   "source": [
    "best_alpha"
   ]
  },
  {
   "cell_type": "code",
   "execution_count": 60,
   "metadata": {},
   "outputs": [
    {
     "data": {
      "text/plain": [
       "array([ 0.        , -0.        ,  0.        ,  0.        ,  0.        ,\n",
       "        0.        ,  0.        ,  0.        ,  0.        ,  0.        ,\n",
       "        0.66023749,  1.52160032,  0.        ,  0.        ,  0.        ,\n",
       "        0.        ,  0.        ,  0.        ,  0.        ,  0.        ,\n",
       "        0.        ,  0.        ,  0.        , -0.        ,  0.        ,\n",
       "        0.        , -0.        ,  0.        ,  0.        , 10.32258186,\n",
       "       -0.        ,  0.        ,  2.24975848, -6.713375  ,  0.        ,\n",
       "        4.88708683,  0.        ,  0.        , -0.        , -0.        ,\n",
       "        0.        ,  0.        ,  0.        ,  0.        , -0.        ,\n",
       "       -0.        , -0.        ,  0.        ,  0.        , -0.        ,\n",
       "       -0.        ,  0.        ,  0.        ])"
      ]
     },
     "execution_count": 60,
     "metadata": {},
     "output_type": "execute_result"
    }
   ],
   "source": [
    "model = Lasso(alpha=best_alpha).fit(train_features, train_labels)\n",
    "model.coef_"
   ]
  },
  {
   "cell_type": "code",
   "execution_count": 61,
   "metadata": {},
   "outputs": [
    {
     "data": {
      "text/plain": [
       "['F_8', 'F_9', 'CC2', 'CC5', 'Base time', 'Post count']"
      ]
     },
     "execution_count": 61,
     "metadata": {},
     "output_type": "execute_result"
    }
   ],
   "source": [
    "lasso_selected_features = np.array(features)[model.coef_ != 0].tolist()\n",
    "lasso_selected_features"
   ]
  },
  {
   "cell_type": "code",
   "execution_count": 64,
   "metadata": {},
   "outputs": [
    {
     "data": {
      "image/png": "[encoded data removed]",
      "text/plain": [
       "<Figure size 432x288 with 1 Axes>"
      ]
     },
     "metadata": {
      "needs_background": "light"
     },
     "output_type": "display_data"
    }
   ],
   "source": [
    "x = np.logspace(0, 10, num=21)\n",
    "plt.plot(x, nonzero_list,\"-b\")\n",
    "plt.xscale('log')\n",
    "plt.xlabel(\"l1_penalty\")\n",
    "plt.ylabel(\"Nonzero_list\")\n",
    "plt.show()"
   ]
  },
  {
   "cell_type": "markdown",
   "metadata": {},
   "source": [
    "### Build a model strictly with the selected features\n",
    "Remember that when you do features selecting, you may have to re-add bias into the list of features yet again. Use the selected features to build a model and calculate the performance basing on the metrics."
   ]
  },
  {
   "cell_type": "code",
   "execution_count": 65,
   "metadata": {},
   "outputs": [],
   "source": [
    "if(\"bias\" not in lasso_selected_features):\n",
    "    lasso_selected_features.append('bias')"
   ]
  },
  {
   "cell_type": "markdown",
   "metadata": {},
   "source": [
    "## Combine everything on one model\n",
    "So LASSO performed admirably, shrinking aways unnecessary and noisy features and quicken the speed of calculation. Now let us combine both previous techniques together on one model."
   ]
  },
  {
   "cell_type": "code",
   "execution_count": 71,
   "metadata": {},
   "outputs": [
    {
     "name": "stdout",
     "output_type": "stream",
     "text": [
      "MSE of train: 1520.34\n",
      "MSE of test: 4696.14\n"
     ]
    }
   ],
   "source": [
    "label = \"Span count\"\n",
    "features = lasso_selected_features\n",
    "\n",
    "train_selected_features = train_data[features]\n",
    "train_output = train_data[label]\n",
    "test_selected_features = test_data[features]\n",
    "test_output = test_data[label]\n",
    "\n",
    "train_selected_features = scaler.fit_transform(train_selected_features)\n",
    "test_selected_features = scaler.transform(test_selected_features)\n",
    "\n",
    "model = Ridge(alpha = 1.0).fit(train_features, train_output)\n",
    "print(\"MSE of train: {:.2f}\".format(mean_squared_error(train_output, model.predict(train_selected_features))))\n",
    "print(\"MSE of test: {:.2f}\".format(mean_squared_error(test_output, model.predict(test_selected_features))))"
   ]
  },
  {
   "cell_type": "markdown",
   "metadata": {},
   "source": [
    "### Distribution of square errors\n",
    "The conclusion is yours to draw. As a side note, let's see how the square errors are distributed."
   ]
  },
  {
   "cell_type": "code",
   "execution_count": 73,
   "metadata": {},
   "outputs": [],
   "source": [
    "label = \"Span count\"\n",
    "features = [col for col in train_data.columns if col != label]\n",
    "\n",
    "train_features = train_data[ features ]\n",
    "train_labels = train_data[ label ]\n",
    "test_features = test_data[ features ]\n",
    "test_labels = test_data[ label ]\n",
    "\n",
    "train_features = scaler.fit_transform(train_features)\n",
    "test_features = scaler.transform(test_features)\n"
   ]
  },
  {
   "cell_type": "code",
   "execution_count": 74,
   "metadata": {},
   "outputs": [
    {
     "data": {
      "image/png": "[encoded data removed]",
      "text/plain": [
       "<Figure size 432x288 with 2 Axes>"
      ]
     },
     "metadata": {
      "needs_background": "light"
     },
     "output_type": "display_data"
    }
   ],
   "source": [
    "train_square_errors = np.log( (train_labels - multi_model.predict(train_features)) ** 2 )\n",
    "test_square_errors = np.log( (test_labels - test_predictions) ** 2 )\n",
    "fig, (train_ax, test_ax) = plt.subplots(ncols=2, sharey=True)\n",
    "train_ax.hist(train_square_errors, bins=20, density=True)\n",
    "train_ax.set_xlabel(\"Train error (log)\")\n",
    "test_ax.set_xlabel(\"Test error (log)\")\n",
    "test_ax.hist(test_square_errors, bins=20, density=True)\n",
    "plt.show()"
   ]
  },
  {
   "cell_type": "code",
   "execution_count": null,
   "metadata": {},
   "outputs": [],
   "source": []
  }
 ],
 "metadata": {
  "kernelspec": {
   "display_name": "Python 3",
   "language": "python",
   "name": "python3"
  },
  "language_info": {
   "codemirror_mode": {
    "name": "ipython",
    "version": 3
   },
   "file_extension": ".py",
   "mimetype": "text/x-python",
   "name": "python",
   "nbconvert_exporter": "python",
   "pygments_lexer": "ipython3",
   "version": "3.7.4"
  }
 },
 "nbformat": 4,
 "nbformat_minor": 2
}
