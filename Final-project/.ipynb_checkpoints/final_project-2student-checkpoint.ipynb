{
 "cells": [
  {
   "cell_type": "markdown",
   "metadata": {},
   "source": [
    "# All Regression Notebook\n",
    "## Load data\n",
    "Declare and load the library, then load the dataset. Since the data do not contain the naming of columns, we had to add it in using a manual Python list\n",
    "\n",
    "We will have `all_train_data` and `all_test_data`, which had been concatenated into their respective `DataFrame`."
   ]
  },
  {
   "cell_type": "code",
   "execution_count": 37,
   "metadata": {},
   "outputs": [],
   "source": [
    "import pandas\n",
    "import numpy as np\n",
    "import matplotlib.pyplot as plt\n",
    "%matplotlib inline"
   ]
  },
  {
   "cell_type": "code",
   "execution_count": 38,
   "metadata": {
    "scrolled": true
   },
   "outputs": [
    {
     "data": {
      "text/plain": [
       "['Popularity',\n",
       " 'Check-in',\n",
       " 'Activities',\n",
       " 'Category',\n",
       " 'F_1',\n",
       " 'F_2',\n",
       " 'F_3',\n",
       " 'F_4',\n",
       " 'F_5',\n",
       " 'F_6',\n",
       " 'F_7',\n",
       " 'F_8',\n",
       " 'F_9',\n",
       " 'F_10',\n",
       " 'F_11',\n",
       " 'F_12',\n",
       " 'F_13',\n",
       " 'F_14',\n",
       " 'F_15',\n",
       " 'F_16',\n",
       " 'F_17',\n",
       " 'F_18',\n",
       " 'F_19',\n",
       " 'F_20',\n",
       " 'F_21',\n",
       " 'F_22',\n",
       " 'F_23',\n",
       " 'F_24',\n",
       " 'F_25',\n",
       " 'CC1',\n",
       " 'CC2',\n",
       " 'CC3',\n",
       " 'CC4',\n",
       " 'CC5',\n",
       " 'Base time',\n",
       " 'Post length',\n",
       " 'Post count',\n",
       " 'Post promotion',\n",
       " 'Span time',\n",
       " 'Post_date_1',\n",
       " 'Post_date_2',\n",
       " 'Post_date_3',\n",
       " 'Post_date_4',\n",
       " 'Post_date_5',\n",
       " 'Post_date_6',\n",
       " 'Post_date_7',\n",
       " 'Base_date_1',\n",
       " 'Base_date_2',\n",
       " 'Base_date_3',\n",
       " 'Base_date_4',\n",
       " 'Base_date_5',\n",
       " 'Base_date_6',\n",
       " 'Base_date_7',\n",
       " 'Span count']"
      ]
     },
     "execution_count": 38,
     "metadata": {},
     "output_type": "execute_result"
    }
   ],
   "source": [
    "columns_name = [\"Popularity\", \"Check-in\", \"Activities\", \"Category\"] \\\n",
    "            + [\"F_{:d}\".format(i) for i in range(1, 26)] \\\n",
    "            + [\"CC{:d}\".format(i) for i in range(1, 6)] \\\n",
    "            + [\"Base time\", \"Post length\", \"Post count\", \"Post promotion\", \"Span time\"] \\\n",
    "            + [\"Post_date_{:d}\".format(i) for i in range(1, 8)] \\\n",
    "            + [\"Base_date_{:d}\".format(i) for i in range(1, 8)] \\\n",
    "            + [\"Span count\"]\n",
    "columns_name"
   ]
  },
  {
   "cell_type": "code",
   "execution_count": 39,
   "metadata": {
    "scrolled": true
   },
   "outputs": [],
   "source": [
    "import dask.dataframe as dd\n",
    "train_data = dd.read_csv('Dataset/Training/*.csv',header=None)\n",
    "train_data.columns = columns_name\n",
    "train_data = train_data.compute()"
   ]
  },
  {
   "cell_type": "code",
   "execution_count": 40,
   "metadata": {},
   "outputs": [],
   "source": [
    "test_data = dd.read_csv('Dataset/Testing/TestSet/*.csv',header=None)\n",
    "test_data.columns = columns_name\n",
    "test_data = test_data.compute()"
   ]
  },
  {
   "cell_type": "code",
   "execution_count": 41,
   "metadata": {},
   "outputs": [],
   "source": [
    "train_data[\"bias\"] = 1\n",
    "test_data[\"bias\"] = 1"
   ]
  },
  {
   "cell_type": "code",
   "execution_count": 42,
   "metadata": {
    "scrolled": false
   },
   "outputs": [
    {
     "data": {
      "text/html": [
       "<div>\n",
       "<style scoped>\n",
       "    .dataframe tbody tr th:only-of-type {\n",
       "        vertical-align: middle;\n",
       "    }\n",
       "\n",
       "    .dataframe tbody tr th {\n",
       "        vertical-align: top;\n",
       "    }\n",
       "\n",
       "    .dataframe thead th {\n",
       "        text-align: right;\n",
       "    }\n",
       "</style>\n",
       "<table border=\"1\" class=\"dataframe\">\n",
       "  <thead>\n",
       "    <tr style=\"text-align: right;\">\n",
       "      <th></th>\n",
       "      <th>Popularity</th>\n",
       "      <th>Check-in</th>\n",
       "      <th>Activities</th>\n",
       "      <th>Category</th>\n",
       "      <th>F_1</th>\n",
       "      <th>F_2</th>\n",
       "      <th>F_3</th>\n",
       "      <th>F_4</th>\n",
       "      <th>F_5</th>\n",
       "      <th>F_6</th>\n",
       "      <th>...</th>\n",
       "      <th>Post_date_7</th>\n",
       "      <th>Base_date_1</th>\n",
       "      <th>Base_date_2</th>\n",
       "      <th>Base_date_3</th>\n",
       "      <th>Base_date_4</th>\n",
       "      <th>Base_date_5</th>\n",
       "      <th>Base_date_6</th>\n",
       "      <th>Base_date_7</th>\n",
       "      <th>Span count</th>\n",
       "      <th>bias</th>\n",
       "    </tr>\n",
       "  </thead>\n",
       "  <tbody>\n",
       "    <tr>\n",
       "      <th>0</th>\n",
       "      <td>634995</td>\n",
       "      <td>0</td>\n",
       "      <td>463</td>\n",
       "      <td>1</td>\n",
       "      <td>0.0</td>\n",
       "      <td>806.0</td>\n",
       "      <td>11.291045</td>\n",
       "      <td>1.0</td>\n",
       "      <td>70.495138</td>\n",
       "      <td>0.0</td>\n",
       "      <td>...</td>\n",
       "      <td>0</td>\n",
       "      <td>0</td>\n",
       "      <td>0</td>\n",
       "      <td>0</td>\n",
       "      <td>0</td>\n",
       "      <td>0</td>\n",
       "      <td>0</td>\n",
       "      <td>1</td>\n",
       "      <td>0</td>\n",
       "      <td>1</td>\n",
       "    </tr>\n",
       "    <tr>\n",
       "      <th>1</th>\n",
       "      <td>634995</td>\n",
       "      <td>0</td>\n",
       "      <td>463</td>\n",
       "      <td>1</td>\n",
       "      <td>0.0</td>\n",
       "      <td>806.0</td>\n",
       "      <td>11.291045</td>\n",
       "      <td>1.0</td>\n",
       "      <td>70.495138</td>\n",
       "      <td>0.0</td>\n",
       "      <td>...</td>\n",
       "      <td>0</td>\n",
       "      <td>0</td>\n",
       "      <td>0</td>\n",
       "      <td>0</td>\n",
       "      <td>0</td>\n",
       "      <td>0</td>\n",
       "      <td>1</td>\n",
       "      <td>0</td>\n",
       "      <td>0</td>\n",
       "      <td>1</td>\n",
       "    </tr>\n",
       "    <tr>\n",
       "      <th>2</th>\n",
       "      <td>634995</td>\n",
       "      <td>0</td>\n",
       "      <td>463</td>\n",
       "      <td>1</td>\n",
       "      <td>0.0</td>\n",
       "      <td>806.0</td>\n",
       "      <td>11.291045</td>\n",
       "      <td>1.0</td>\n",
       "      <td>70.495138</td>\n",
       "      <td>0.0</td>\n",
       "      <td>...</td>\n",
       "      <td>0</td>\n",
       "      <td>0</td>\n",
       "      <td>0</td>\n",
       "      <td>0</td>\n",
       "      <td>0</td>\n",
       "      <td>0</td>\n",
       "      <td>0</td>\n",
       "      <td>1</td>\n",
       "      <td>0</td>\n",
       "      <td>1</td>\n",
       "    </tr>\n",
       "    <tr>\n",
       "      <th>3</th>\n",
       "      <td>634995</td>\n",
       "      <td>0</td>\n",
       "      <td>463</td>\n",
       "      <td>1</td>\n",
       "      <td>0.0</td>\n",
       "      <td>806.0</td>\n",
       "      <td>11.291045</td>\n",
       "      <td>1.0</td>\n",
       "      <td>70.495138</td>\n",
       "      <td>0.0</td>\n",
       "      <td>...</td>\n",
       "      <td>0</td>\n",
       "      <td>0</td>\n",
       "      <td>1</td>\n",
       "      <td>0</td>\n",
       "      <td>0</td>\n",
       "      <td>0</td>\n",
       "      <td>0</td>\n",
       "      <td>0</td>\n",
       "      <td>0</td>\n",
       "      <td>1</td>\n",
       "    </tr>\n",
       "    <tr>\n",
       "      <th>4</th>\n",
       "      <td>634995</td>\n",
       "      <td>0</td>\n",
       "      <td>463</td>\n",
       "      <td>1</td>\n",
       "      <td>0.0</td>\n",
       "      <td>806.0</td>\n",
       "      <td>11.291045</td>\n",
       "      <td>1.0</td>\n",
       "      <td>70.495138</td>\n",
       "      <td>0.0</td>\n",
       "      <td>...</td>\n",
       "      <td>0</td>\n",
       "      <td>0</td>\n",
       "      <td>0</td>\n",
       "      <td>0</td>\n",
       "      <td>1</td>\n",
       "      <td>0</td>\n",
       "      <td>0</td>\n",
       "      <td>0</td>\n",
       "      <td>0</td>\n",
       "      <td>1</td>\n",
       "    </tr>\n",
       "  </tbody>\n",
       "</table>\n",
       "<p>5 rows × 55 columns</p>\n",
       "</div>"
      ],
      "text/plain": [
       "   Popularity  Check-in  Activities  Category  F_1    F_2        F_3  F_4  \\\n",
       "0      634995         0         463         1  0.0  806.0  11.291045  1.0   \n",
       "1      634995         0         463         1  0.0  806.0  11.291045  1.0   \n",
       "2      634995         0         463         1  0.0  806.0  11.291045  1.0   \n",
       "3      634995         0         463         1  0.0  806.0  11.291045  1.0   \n",
       "4      634995         0         463         1  0.0  806.0  11.291045  1.0   \n",
       "\n",
       "         F_5  F_6  ...  Post_date_7  Base_date_1  Base_date_2  Base_date_3  \\\n",
       "0  70.495138  0.0  ...            0            0            0            0   \n",
       "1  70.495138  0.0  ...            0            0            0            0   \n",
       "2  70.495138  0.0  ...            0            0            0            0   \n",
       "3  70.495138  0.0  ...            0            0            1            0   \n",
       "4  70.495138  0.0  ...            0            0            0            0   \n",
       "\n",
       "   Base_date_4  Base_date_5  Base_date_6  Base_date_7  Span count  bias  \n",
       "0            0            0            0            1           0     1  \n",
       "1            0            0            1            0           0     1  \n",
       "2            0            0            0            1           0     1  \n",
       "3            0            0            0            0           0     1  \n",
       "4            1            0            0            0           0     1  \n",
       "\n",
       "[5 rows x 55 columns]"
      ]
     },
     "execution_count": 42,
     "metadata": {},
     "output_type": "execute_result"
    }
   ],
   "source": [
    "train_data.head()"
   ]
  },
  {
   "cell_type": "code",
   "execution_count": 43,
   "metadata": {},
   "outputs": [
    {
     "data": {
      "text/html": [
       "<div>\n",
       "<style scoped>\n",
       "    .dataframe tbody tr th:only-of-type {\n",
       "        vertical-align: middle;\n",
       "    }\n",
       "\n",
       "    .dataframe tbody tr th {\n",
       "        vertical-align: top;\n",
       "    }\n",
       "\n",
       "    .dataframe thead th {\n",
       "        text-align: right;\n",
       "    }\n",
       "</style>\n",
       "<table border=\"1\" class=\"dataframe\">\n",
       "  <thead>\n",
       "    <tr style=\"text-align: right;\">\n",
       "      <th></th>\n",
       "      <th>Popularity</th>\n",
       "      <th>Check-in</th>\n",
       "      <th>Activities</th>\n",
       "      <th>Category</th>\n",
       "      <th>F_1</th>\n",
       "      <th>F_2</th>\n",
       "      <th>F_3</th>\n",
       "      <th>F_4</th>\n",
       "      <th>F_5</th>\n",
       "      <th>F_6</th>\n",
       "      <th>...</th>\n",
       "      <th>Post_date_7</th>\n",
       "      <th>Base_date_1</th>\n",
       "      <th>Base_date_2</th>\n",
       "      <th>Base_date_3</th>\n",
       "      <th>Base_date_4</th>\n",
       "      <th>Base_date_5</th>\n",
       "      <th>Base_date_6</th>\n",
       "      <th>Base_date_7</th>\n",
       "      <th>Span count</th>\n",
       "      <th>bias</th>\n",
       "    </tr>\n",
       "  </thead>\n",
       "  <tbody>\n",
       "    <tr>\n",
       "      <th>0</th>\n",
       "      <td>1340759</td>\n",
       "      <td>33935</td>\n",
       "      <td>49392</td>\n",
       "      <td>9</td>\n",
       "      <td>0.0</td>\n",
       "      <td>768.0</td>\n",
       "      <td>77.200000</td>\n",
       "      <td>36.5</td>\n",
       "      <td>132.861432</td>\n",
       "      <td>0.0</td>\n",
       "      <td>...</td>\n",
       "      <td>0</td>\n",
       "      <td>0</td>\n",
       "      <td>0</td>\n",
       "      <td>0</td>\n",
       "      <td>0</td>\n",
       "      <td>1</td>\n",
       "      <td>0</td>\n",
       "      <td>0</td>\n",
       "      <td>35</td>\n",
       "      <td>1</td>\n",
       "    </tr>\n",
       "    <tr>\n",
       "      <th>1</th>\n",
       "      <td>161455</td>\n",
       "      <td>0</td>\n",
       "      <td>5978</td>\n",
       "      <td>4</td>\n",
       "      <td>3.0</td>\n",
       "      <td>75.0</td>\n",
       "      <td>22.714286</td>\n",
       "      <td>15.0</td>\n",
       "      <td>23.389340</td>\n",
       "      <td>3.0</td>\n",
       "      <td>...</td>\n",
       "      <td>0</td>\n",
       "      <td>0</td>\n",
       "      <td>0</td>\n",
       "      <td>0</td>\n",
       "      <td>0</td>\n",
       "      <td>0</td>\n",
       "      <td>0</td>\n",
       "      <td>1</td>\n",
       "      <td>2</td>\n",
       "      <td>1</td>\n",
       "    </tr>\n",
       "    <tr>\n",
       "      <th>2</th>\n",
       "      <td>92385</td>\n",
       "      <td>88</td>\n",
       "      <td>34785</td>\n",
       "      <td>70</td>\n",
       "      <td>0.0</td>\n",
       "      <td>0.0</td>\n",
       "      <td>0.000000</td>\n",
       "      <td>0.0</td>\n",
       "      <td>0.000000</td>\n",
       "      <td>0.0</td>\n",
       "      <td>...</td>\n",
       "      <td>0</td>\n",
       "      <td>0</td>\n",
       "      <td>0</td>\n",
       "      <td>0</td>\n",
       "      <td>0</td>\n",
       "      <td>0</td>\n",
       "      <td>0</td>\n",
       "      <td>1</td>\n",
       "      <td>0</td>\n",
       "      <td>1</td>\n",
       "    </tr>\n",
       "    <tr>\n",
       "      <th>3</th>\n",
       "      <td>395272</td>\n",
       "      <td>0</td>\n",
       "      <td>3406</td>\n",
       "      <td>17</td>\n",
       "      <td>0.0</td>\n",
       "      <td>22.0</td>\n",
       "      <td>4.000000</td>\n",
       "      <td>1.0</td>\n",
       "      <td>6.599663</td>\n",
       "      <td>0.0</td>\n",
       "      <td>...</td>\n",
       "      <td>1</td>\n",
       "      <td>1</td>\n",
       "      <td>0</td>\n",
       "      <td>0</td>\n",
       "      <td>0</td>\n",
       "      <td>0</td>\n",
       "      <td>0</td>\n",
       "      <td>0</td>\n",
       "      <td>0</td>\n",
       "      <td>1</td>\n",
       "    </tr>\n",
       "    <tr>\n",
       "      <th>4</th>\n",
       "      <td>4349418</td>\n",
       "      <td>0</td>\n",
       "      <td>614043</td>\n",
       "      <td>9</td>\n",
       "      <td>0.0</td>\n",
       "      <td>958.0</td>\n",
       "      <td>65.974194</td>\n",
       "      <td>24.0</td>\n",
       "      <td>126.960748</td>\n",
       "      <td>0.0</td>\n",
       "      <td>...</td>\n",
       "      <td>1</td>\n",
       "      <td>1</td>\n",
       "      <td>0</td>\n",
       "      <td>0</td>\n",
       "      <td>0</td>\n",
       "      <td>0</td>\n",
       "      <td>0</td>\n",
       "      <td>0</td>\n",
       "      <td>0</td>\n",
       "      <td>1</td>\n",
       "    </tr>\n",
       "  </tbody>\n",
       "</table>\n",
       "<p>5 rows × 55 columns</p>\n",
       "</div>"
      ],
      "text/plain": [
       "   Popularity  Check-in  Activities  Category  F_1    F_2        F_3   F_4  \\\n",
       "0     1340759     33935       49392         9  0.0  768.0  77.200000  36.5   \n",
       "1      161455         0        5978         4  3.0   75.0  22.714286  15.0   \n",
       "2       92385        88       34785        70  0.0    0.0   0.000000   0.0   \n",
       "3      395272         0        3406        17  0.0   22.0   4.000000   1.0   \n",
       "4     4349418         0      614043         9  0.0  958.0  65.974194  24.0   \n",
       "\n",
       "          F_5  F_6  ...  Post_date_7  Base_date_1  Base_date_2  Base_date_3  \\\n",
       "0  132.861432  0.0  ...            0            0            0            0   \n",
       "1   23.389340  3.0  ...            0            0            0            0   \n",
       "2    0.000000  0.0  ...            0            0            0            0   \n",
       "3    6.599663  0.0  ...            1            1            0            0   \n",
       "4  126.960748  0.0  ...            1            1            0            0   \n",
       "\n",
       "   Base_date_4  Base_date_5  Base_date_6  Base_date_7  Span count  bias  \n",
       "0            0            1            0            0          35     1  \n",
       "1            0            0            0            1           2     1  \n",
       "2            0            0            0            1           0     1  \n",
       "3            0            0            0            0           0     1  \n",
       "4            0            0            0            0           0     1  \n",
       "\n",
       "[5 rows x 55 columns]"
      ]
     },
     "execution_count": 43,
     "metadata": {},
     "output_type": "execute_result"
    }
   ],
   "source": [
    "test_data.head()"
   ]
  },
  {
   "cell_type": "markdown",
   "metadata": {},
   "source": [
    "## Selecting sub-category\n",
    "The Category column contain arbitrary indices of the data category relating to the nature of the post itself. For the sake of simplification, we will just use the category with the largest amount of data to perform our Linear regression on.\n",
    "\n",
    "Find and select the category with the most amount of records using pandas. Store it in the variable `largest_category`"
   ]
  },
  {
   "cell_type": "code",
   "execution_count": 44,
   "metadata": {},
   "outputs": [
    {
     "data": {
      "text/plain": [
       "9     110313\n",
       "24     66473\n",
       "18     63314\n",
       "36     35163\n",
       "16     27805\n",
       "       ...  \n",
       "62       232\n",
       "63        58\n",
       "58        29\n",
       "83        15\n",
       "93        15\n",
       "Name: Category, Length: 81, dtype: int64"
      ]
     },
     "execution_count": 44,
     "metadata": {},
     "output_type": "execute_result"
    }
   ],
   "source": [
    "train_data.Category.value_counts()"
   ]
  },
  {
   "cell_type": "code",
   "execution_count": 45,
   "metadata": {},
   "outputs": [],
   "source": [
    "# largest_category = -1\n",
    "largest_category = 9"
   ]
  },
  {
   "cell_type": "code",
   "execution_count": 46,
   "metadata": {},
   "outputs": [],
   "source": [
    "# Categorize models\n",
    "train_data = train_data.loc[train_data['Category'] == largest_category].drop('Category', axis=1)\n",
    "test_data = test_data.loc[test_data['Category'] == largest_category].drop('Category', axis=1)\n",
    "\n",
    "label = \"Span count\"\n",
    "features = [col for col in train_data.columns if col != label]\n",
    "\n",
    "train_features = train_data[ features ]\n",
    "train_labels = train_data[ label ]\n",
    "test_features = test_data[ features ]\n",
    "test_labels = test_data[ label ]"
   ]
  },
  {
   "cell_type": "markdown",
   "metadata": {},
   "source": [
    "## A basic correlation\n",
    "As a little exercise, we will draw a correlation matrix between CC? variables. Correlation are useful to see if there are features that are too closely connected - and we don't want those together as they will introduce artificial noises that will overfit the model."
   ]
  },
  {
   "cell_type": "code",
   "execution_count": 47,
   "metadata": {},
   "outputs": [
    {
     "data": {
      "image/png": "[encoded data removed]",
      "text/plain": [
       "<Figure size 432x432 with 1 Axes>"
      ]
     },
     "metadata": {
      "needs_background": "light"
     },
     "output_type": "display_data"
    }
   ],
   "source": [
    "subdata = train_data[(col for col in train_data.columns if \"CC\" in col)]\n",
    "correlation_matrix = subdata.corr()\n",
    "\n",
    "fig, ax = plt.subplots(figsize=(6, 6))\n",
    "ax.matshow(correlation_matrix)\n",
    "\n",
    "# this two lines may cause trouble with different versions of matplotlib. If it fail, try to delete and see.\n",
    "plt.xticks(np.arange(len(correlation_matrix.columns)))\n",
    "plt.yticks(np.arange(len(correlation_matrix.columns)))\n",
    "\n",
    "ax.set_xticklabels(correlation_matrix.columns.values.tolist())\n",
    "ax.set_yticklabels(correlation_matrix.columns.values.tolist())\n",
    "plt.xticks(rotation=90)\n",
    "\n",
    "for i, column in enumerate(correlation_matrix.values):\n",
    "    for j, value in enumerate(column):\n",
    "        text = ax.text(j, i, \"%.2f\" % value,\n",
    "                       ha=\"center\", va=\"center\", color=\"black\")\n",
    "plt.show()"
   ]
  },
  {
   "cell_type": "markdown",
   "metadata": {},
   "source": [
    "## Build Regression Models\n",
    "\n",
    "__Our task is to predict the number of comments the post will receive (\"Span count\" column)__ <br>\n",
    "\"Span time\" is necessary, while all other columns are optional <br>\n",
    "Try a simple Multiple Regression model with only the basic features: <br>\n",
    "[\"Popularity\", \"Base time\", \"Post length\", \"Post count\", \"Span time\", \"bias\"] <br>\n",
    "\n",
    "Print out either the MSE score from sklearn or the RSS score learned from the course for both training and testing dataset"
   ]
  },
  {
   "cell_type": "code",
   "execution_count": 48,
   "metadata": {},
   "outputs": [],
   "source": [
    "def get_RSS(y_pred, y_true):\n",
    "    residuals = y_pred - y_true\n",
    "    residuals_squared = residuals*residuals\n",
    "    RSS = residuals_squared.sum()\n",
    "    return(RSS)"
   ]
  },
  {
   "cell_type": "code",
   "execution_count": 49,
   "metadata": {},
   "outputs": [],
   "source": [
    "basic_features = [\"Popularity\", \"Base time\", \"Post length\", \"Post count\", \"Span time\", \"bias\"]"
   ]
  },
  {
   "cell_type": "code",
   "execution_count": 57,
   "metadata": {},
   "outputs": [],
   "source": [
    "from sklearn.preprocessing import StandardScaler\n",
    "scaler = StandardScaler()\n",
    "\n",
    "basic_train_features = train_data[basic_features]\n",
    "train_output = train_data[label]\n",
    "\n",
    "basic_test_features = test_data[basic_features]\n",
    "test_output = test_data[label]\n",
    "\n",
    "basic_train_features = scaler.fit_transform(basic_train_features)\n",
    "basic_test_features = scaler.transform(basic_test_features)"
   ]
  },
  {
   "cell_type": "code",
   "execution_count": 58,
   "metadata": {},
   "outputs": [],
   "source": [
    "from sklearn.linear_model import LinearRegression\n",
    "model = LinearRegression().fit(basic_train_features, train_output)"
   ]
  },
  {
   "cell_type": "code",
   "execution_count": 59,
   "metadata": {},
   "outputs": [
    {
     "name": "stdout",
     "output_type": "stream",
     "text": [
      "RSS of train data: 186381151.50533107\n"
     ]
    }
   ],
   "source": [
    "print('RSS of train data:',get_RSS(model.predict(basic_train_features),train_output))"
   ]
  },
  {
   "cell_type": "code",
   "execution_count": 60,
   "metadata": {},
   "outputs": [
    {
     "name": "stdout",
     "output_type": "stream",
     "text": [
      "RSS of test data: 1588355.3267519716\n"
     ]
    }
   ],
   "source": [
    "print('RSS of test data:',get_RSS(model.predict(basic_test_features),test_output))"
   ]
  },
  {
   "cell_type": "markdown",
   "metadata": {},
   "source": [
    "### Try improving with more features\n",
    "Not the greatest model we could use. We should try to add even more relevant features. <br>Append all the CC properties to the features and try again, with the same metrics."
   ]
  },
  {
   "cell_type": "code",
   "execution_count": 61,
   "metadata": {},
   "outputs": [
    {
     "data": {
      "text/plain": [
       "['Popularity',\n",
       " 'Base time',\n",
       " 'Post length',\n",
       " 'Post count',\n",
       " 'Span time',\n",
       " 'bias',\n",
       " 'CC1',\n",
       " 'CC2',\n",
       " 'CC3',\n",
       " 'CC4',\n",
       " 'CC5']"
      ]
     },
     "execution_count": 61,
     "metadata": {},
     "output_type": "execute_result"
    }
   ],
   "source": [
    "more_features = basic_features + [\"CC{:d}\".format(i) for i in range(1, 6)]\n",
    "more_features"
   ]
  },
  {
   "cell_type": "code",
   "execution_count": 62,
   "metadata": {},
   "outputs": [
    {
     "name": "stdout",
     "output_type": "stream",
     "text": [
      "RSS of train data: 169332524.36317953\n",
      "RSS of test data: 1159949.851688985\n"
     ]
    }
   ],
   "source": [
    "more_train_features = train_data[more_features]\n",
    "more_test_features = test_data[more_features]\n",
    "\n",
    "model = LinearRegression().fit(more_train_features, train_output)\n",
    "print('RSS of train data:',get_RSS(model.predict(more_train_features),train_output))\n",
    "print('RSS of test data:',get_RSS(model.predict(more_test_features),test_output))"
   ]
  },
  {
   "cell_type": "markdown",
   "metadata": {},
   "source": [
    "Moral of the day: Premature optimization are rarely ever worth it.\n",
    "\n",
    "## Resolve overfit\n",
    "### Applying resolution for overfit\n",
    "\n",
    "The discrepancy between the score of the training and testing indicate that we may be overfitting the model. Let's try to fix it. Span the Ridge regression with alpha along logspace between 0 and 10, record the value with the best performance as variable `best_alpha`, and *optionally draw a graph for the coefficients magnitude*."
   ]
  },
  {
   "cell_type": "code",
   "execution_count": 63,
   "metadata": {},
   "outputs": [
    {
     "name": "stderr",
     "output_type": "stream",
     "text": [
      "/home/chien/anaconda3/lib/python3.6/site-packages/sklearn/linear_model/_ridge.py:148: LinAlgWarning: Ill-conditioned matrix (rcond=1.42216e-18): result may not be accurate.\n",
      "  overwrite_a=True).T\n",
      "/home/chien/anaconda3/lib/python3.6/site-packages/sklearn/linear_model/_ridge.py:148: LinAlgWarning: Ill-conditioned matrix (rcond=4.49728e-18): result may not be accurate.\n",
      "  overwrite_a=True).T\n",
      "/home/chien/anaconda3/lib/python3.6/site-packages/sklearn/linear_model/_ridge.py:148: LinAlgWarning: Ill-conditioned matrix (rcond=1.42216e-17): result may not be accurate.\n",
      "  overwrite_a=True).T\n",
      "/home/chien/anaconda3/lib/python3.6/site-packages/sklearn/linear_model/_ridge.py:148: LinAlgWarning: Ill-conditioned matrix (rcond=4.49728e-17): result may not be accurate.\n",
      "  overwrite_a=True).T\n"
     ]
    },
    {
     "data": {
      "text/plain": [
       "[1159949.8714982779,\n",
       " 1159949.91433135,\n",
       " 1159950.0497801793,\n",
       " 1159950.478094606,\n",
       " 1159951.832419956,\n",
       " 1159956.113935172,\n",
       " 1159969.6409104154,\n",
       " 1160012.2936667465,\n",
       " 1160145.9516030392,\n",
       " 1160556.736377866,\n",
       " 1161746.936836295,\n",
       " 1164671.231518802,\n",
       " 1169628.7440843158,\n",
       " 1174448.8872324498,\n",
       " 1177821.241075567,\n",
       " 1182448.0877032103,\n",
       " 1189083.5756508606,\n",
       " 1194107.9813200478,\n",
       " 1211796.7847133647,\n",
       " 1292472.4159277566,\n",
       " 1449041.0854820632]"
      ]
     },
     "execution_count": 63,
     "metadata": {},
     "output_type": "execute_result"
    }
   ],
   "source": [
    "from sklearn.linear_model import Ridge\n",
    "test_RSS = []\n",
    "min_RSS = 1e15\n",
    "weight = []\n",
    "for alpha in np.logspace(0, 10, num=21):\n",
    "    model = Ridge(alpha=alpha).fit(more_train_features, train_output)\n",
    "    weight.append(model.coef_)\n",
    "    RSS = get_RSS(model.predict(more_test_features),test_output)\n",
    "    test_RSS.append(RSS)\n",
    "    if RSS < min_RSS:\n",
    "        min_RSS = RSS\n",
    "        best_alpha = alpha\n",
    "test_RSS"
   ]
  },
  {
   "cell_type": "code",
   "execution_count": 64,
   "metadata": {},
   "outputs": [
    {
     "data": {
      "text/plain": [
       "'1.00e+00'"
      ]
     },
     "execution_count": 64,
     "metadata": {},
     "output_type": "execute_result"
    }
   ],
   "source": [
    "\"{:.2e}\".format(best_alpha)"
   ]
  },
  {
   "cell_type": "code",
   "execution_count": 65,
   "metadata": {},
   "outputs": [],
   "source": [
    "weight = pandas.DataFrame(weight)"
   ]
  },
  {
   "cell_type": "code",
   "execution_count": 66,
   "metadata": {},
   "outputs": [
    {
     "data": {
      "image/png": "[encoded data removed]",
      "text/plain": [
       "<Figure size 432x288 with 1 Axes>"
      ]
     },
     "metadata": {
      "needs_background": "light"
     },
     "output_type": "display_data"
    }
   ],
   "source": [
    "x = np.logspace(0, 10, num=21)\n",
    "for i in range(len(more_features)):\n",
    "    plt.plot(x, weight.iloc[:,i], label = \"weight {:d}\".format(i))\n",
    "plt.xscale('log')\n",
    "plt.xlabel('alpha')\n",
    "\n",
    "plt.ylabel('weights')\n",
    "\n",
    "plt.legend(loc=0,fontsize='x-small')\n",
    "\n",
    "plt.show()"
   ]
  },
  {
   "cell_type": "markdown",
   "metadata": {},
   "source": [
    "### Try Ridge Regression on every columns\n",
    "It worked, but one have to wonder if we are still using the incomplete set of features instead of the optimal one. Expand the features to all columns except our designated label. Run and see what happens."
   ]
  },
  {
   "cell_type": "code",
   "execution_count": 67,
   "metadata": {},
   "outputs": [
    {
     "name": "stdout",
     "output_type": "stream",
     "text": [
      "MSE on training: 1512.2733; MSE on test: 4121.6797\n"
     ]
    }
   ],
   "source": [
    "from sklearn.metrics import mean_squared_error\n",
    "from sklearn.preprocessing import StandardScaler\n",
    "scaler = StandardScaler()\n",
    "\n",
    "label = \"Span count\"\n",
    "features = [col for col in train_data.columns if col != label]\n",
    "\n",
    "train_features = train_data[ features ]\n",
    "train_labels = train_data[ label ]\n",
    "test_features = test_data[ features ]\n",
    "test_labels = test_data[ label ]\n",
    "\n",
    "train_features = scaler.fit_transform(train_features)\n",
    "test_features = scaler.transform(test_features)\n",
    "\n",
    "multi_model = Ridge(alpha=best_alpha)\n",
    "multi_model.fit(train_features, train_labels)\n",
    "test_predictions = multi_model.predict(test_features)\n",
    "\n",
    "test_mse_score = mean_squared_error(test_labels, test_predictions)\n",
    "train_mse_score = mean_squared_error(train_labels, multi_model.predict(train_features))\n",
    "print(\"MSE on training: {:.4f}; MSE on test: {:.4f}\".format(train_mse_score, test_mse_score))"
   ]
  },
  {
   "cell_type": "code",
   "execution_count": 68,
   "metadata": {},
   "outputs": [
    {
     "data": {
      "text/html": [
       "<div>\n",
       "<style scoped>\n",
       "    .dataframe tbody tr th:only-of-type {\n",
       "        vertical-align: middle;\n",
       "    }\n",
       "\n",
       "    .dataframe tbody tr th {\n",
       "        vertical-align: top;\n",
       "    }\n",
       "\n",
       "    .dataframe thead th {\n",
       "        text-align: right;\n",
       "    }\n",
       "</style>\n",
       "<table border=\"1\" class=\"dataframe\">\n",
       "  <thead>\n",
       "    <tr style=\"text-align: right;\">\n",
       "      <th></th>\n",
       "      <th>Popularity</th>\n",
       "      <th>Check-in</th>\n",
       "      <th>Activities</th>\n",
       "      <th>F_1</th>\n",
       "      <th>F_2</th>\n",
       "      <th>F_3</th>\n",
       "      <th>F_4</th>\n",
       "      <th>F_5</th>\n",
       "      <th>F_6</th>\n",
       "      <th>F_7</th>\n",
       "      <th>...</th>\n",
       "      <th>Post_date_7</th>\n",
       "      <th>Base_date_1</th>\n",
       "      <th>Base_date_2</th>\n",
       "      <th>Base_date_3</th>\n",
       "      <th>Base_date_4</th>\n",
       "      <th>Base_date_5</th>\n",
       "      <th>Base_date_6</th>\n",
       "      <th>Base_date_7</th>\n",
       "      <th>Span count</th>\n",
       "      <th>bias</th>\n",
       "    </tr>\n",
       "  </thead>\n",
       "  <tbody>\n",
       "    <tr>\n",
       "      <th>349</th>\n",
       "      <td>1552629</td>\n",
       "      <td>0</td>\n",
       "      <td>64641</td>\n",
       "      <td>0.0</td>\n",
       "      <td>910.0</td>\n",
       "      <td>159.701923</td>\n",
       "      <td>125.0</td>\n",
       "      <td>153.676163</td>\n",
       "      <td>0.0</td>\n",
       "      <td>621.0</td>\n",
       "      <td>...</td>\n",
       "      <td>0</td>\n",
       "      <td>0</td>\n",
       "      <td>1</td>\n",
       "      <td>0</td>\n",
       "      <td>0</td>\n",
       "      <td>0</td>\n",
       "      <td>0</td>\n",
       "      <td>0</td>\n",
       "      <td>278</td>\n",
       "      <td>1</td>\n",
       "    </tr>\n",
       "    <tr>\n",
       "      <th>350</th>\n",
       "      <td>1552629</td>\n",
       "      <td>0</td>\n",
       "      <td>64641</td>\n",
       "      <td>0.0</td>\n",
       "      <td>910.0</td>\n",
       "      <td>159.701923</td>\n",
       "      <td>125.0</td>\n",
       "      <td>153.676163</td>\n",
       "      <td>0.0</td>\n",
       "      <td>621.0</td>\n",
       "      <td>...</td>\n",
       "      <td>0</td>\n",
       "      <td>0</td>\n",
       "      <td>0</td>\n",
       "      <td>0</td>\n",
       "      <td>1</td>\n",
       "      <td>0</td>\n",
       "      <td>0</td>\n",
       "      <td>0</td>\n",
       "      <td>21</td>\n",
       "      <td>1</td>\n",
       "    </tr>\n",
       "    <tr>\n",
       "      <th>351</th>\n",
       "      <td>1552629</td>\n",
       "      <td>0</td>\n",
       "      <td>64641</td>\n",
       "      <td>0.0</td>\n",
       "      <td>910.0</td>\n",
       "      <td>159.701923</td>\n",
       "      <td>125.0</td>\n",
       "      <td>153.676163</td>\n",
       "      <td>0.0</td>\n",
       "      <td>621.0</td>\n",
       "      <td>...</td>\n",
       "      <td>0</td>\n",
       "      <td>0</td>\n",
       "      <td>0</td>\n",
       "      <td>0</td>\n",
       "      <td>1</td>\n",
       "      <td>0</td>\n",
       "      <td>0</td>\n",
       "      <td>0</td>\n",
       "      <td>16</td>\n",
       "      <td>1</td>\n",
       "    </tr>\n",
       "    <tr>\n",
       "      <th>352</th>\n",
       "      <td>1552629</td>\n",
       "      <td>0</td>\n",
       "      <td>64641</td>\n",
       "      <td>0.0</td>\n",
       "      <td>910.0</td>\n",
       "      <td>159.701923</td>\n",
       "      <td>125.0</td>\n",
       "      <td>153.676163</td>\n",
       "      <td>0.0</td>\n",
       "      <td>621.0</td>\n",
       "      <td>...</td>\n",
       "      <td>1</td>\n",
       "      <td>0</td>\n",
       "      <td>0</td>\n",
       "      <td>1</td>\n",
       "      <td>0</td>\n",
       "      <td>0</td>\n",
       "      <td>0</td>\n",
       "      <td>0</td>\n",
       "      <td>3</td>\n",
       "      <td>1</td>\n",
       "    </tr>\n",
       "    <tr>\n",
       "      <th>353</th>\n",
       "      <td>1552629</td>\n",
       "      <td>0</td>\n",
       "      <td>64641</td>\n",
       "      <td>0.0</td>\n",
       "      <td>910.0</td>\n",
       "      <td>159.701923</td>\n",
       "      <td>125.0</td>\n",
       "      <td>153.676163</td>\n",
       "      <td>0.0</td>\n",
       "      <td>621.0</td>\n",
       "      <td>...</td>\n",
       "      <td>1</td>\n",
       "      <td>0</td>\n",
       "      <td>1</td>\n",
       "      <td>0</td>\n",
       "      <td>0</td>\n",
       "      <td>0</td>\n",
       "      <td>0</td>\n",
       "      <td>0</td>\n",
       "      <td>0</td>\n",
       "      <td>1</td>\n",
       "    </tr>\n",
       "    <tr>\n",
       "      <th>...</th>\n",
       "      <td>...</td>\n",
       "      <td>...</td>\n",
       "      <td>...</td>\n",
       "      <td>...</td>\n",
       "      <td>...</td>\n",
       "      <td>...</td>\n",
       "      <td>...</td>\n",
       "      <td>...</td>\n",
       "      <td>...</td>\n",
       "      <td>...</td>\n",
       "      <td>...</td>\n",
       "      <td>...</td>\n",
       "      <td>...</td>\n",
       "      <td>...</td>\n",
       "      <td>...</td>\n",
       "      <td>...</td>\n",
       "      <td>...</td>\n",
       "      <td>...</td>\n",
       "      <td>...</td>\n",
       "      <td>...</td>\n",
       "      <td>...</td>\n",
       "    </tr>\n",
       "    <tr>\n",
       "      <th>6304</th>\n",
       "      <td>7170111</td>\n",
       "      <td>70</td>\n",
       "      <td>497000</td>\n",
       "      <td>0.0</td>\n",
       "      <td>2164.0</td>\n",
       "      <td>466.975207</td>\n",
       "      <td>244.0</td>\n",
       "      <td>497.966169</td>\n",
       "      <td>0.0</td>\n",
       "      <td>1990.0</td>\n",
       "      <td>...</td>\n",
       "      <td>0</td>\n",
       "      <td>0</td>\n",
       "      <td>0</td>\n",
       "      <td>0</td>\n",
       "      <td>1</td>\n",
       "      <td>0</td>\n",
       "      <td>0</td>\n",
       "      <td>0</td>\n",
       "      <td>203</td>\n",
       "      <td>1</td>\n",
       "    </tr>\n",
       "    <tr>\n",
       "      <th>6305</th>\n",
       "      <td>7170111</td>\n",
       "      <td>70</td>\n",
       "      <td>497000</td>\n",
       "      <td>0.0</td>\n",
       "      <td>2164.0</td>\n",
       "      <td>466.975207</td>\n",
       "      <td>244.0</td>\n",
       "      <td>497.966169</td>\n",
       "      <td>0.0</td>\n",
       "      <td>1990.0</td>\n",
       "      <td>...</td>\n",
       "      <td>0</td>\n",
       "      <td>0</td>\n",
       "      <td>0</td>\n",
       "      <td>0</td>\n",
       "      <td>1</td>\n",
       "      <td>0</td>\n",
       "      <td>0</td>\n",
       "      <td>0</td>\n",
       "      <td>42</td>\n",
       "      <td>1</td>\n",
       "    </tr>\n",
       "    <tr>\n",
       "      <th>6306</th>\n",
       "      <td>7170111</td>\n",
       "      <td>70</td>\n",
       "      <td>497000</td>\n",
       "      <td>0.0</td>\n",
       "      <td>2164.0</td>\n",
       "      <td>466.975207</td>\n",
       "      <td>244.0</td>\n",
       "      <td>497.966169</td>\n",
       "      <td>0.0</td>\n",
       "      <td>1990.0</td>\n",
       "      <td>...</td>\n",
       "      <td>0</td>\n",
       "      <td>0</td>\n",
       "      <td>0</td>\n",
       "      <td>0</td>\n",
       "      <td>1</td>\n",
       "      <td>0</td>\n",
       "      <td>0</td>\n",
       "      <td>0</td>\n",
       "      <td>51</td>\n",
       "      <td>1</td>\n",
       "    </tr>\n",
       "    <tr>\n",
       "      <th>6307</th>\n",
       "      <td>7170111</td>\n",
       "      <td>70</td>\n",
       "      <td>497000</td>\n",
       "      <td>0.0</td>\n",
       "      <td>2164.0</td>\n",
       "      <td>466.975207</td>\n",
       "      <td>244.0</td>\n",
       "      <td>497.966169</td>\n",
       "      <td>0.0</td>\n",
       "      <td>1990.0</td>\n",
       "      <td>...</td>\n",
       "      <td>0</td>\n",
       "      <td>0</td>\n",
       "      <td>0</td>\n",
       "      <td>0</td>\n",
       "      <td>0</td>\n",
       "      <td>1</td>\n",
       "      <td>0</td>\n",
       "      <td>0</td>\n",
       "      <td>17</td>\n",
       "      <td>1</td>\n",
       "    </tr>\n",
       "    <tr>\n",
       "      <th>6308</th>\n",
       "      <td>7170111</td>\n",
       "      <td>70</td>\n",
       "      <td>497000</td>\n",
       "      <td>0.0</td>\n",
       "      <td>2164.0</td>\n",
       "      <td>466.975207</td>\n",
       "      <td>244.0</td>\n",
       "      <td>497.966169</td>\n",
       "      <td>0.0</td>\n",
       "      <td>1990.0</td>\n",
       "      <td>...</td>\n",
       "      <td>0</td>\n",
       "      <td>0</td>\n",
       "      <td>0</td>\n",
       "      <td>0</td>\n",
       "      <td>0</td>\n",
       "      <td>0</td>\n",
       "      <td>1</td>\n",
       "      <td>0</td>\n",
       "      <td>21</td>\n",
       "      <td>1</td>\n",
       "    </tr>\n",
       "  </tbody>\n",
       "</table>\n",
       "<p>110313 rows × 54 columns</p>\n",
       "</div>"
      ],
      "text/plain": [
       "      Popularity  Check-in  Activities  F_1     F_2         F_3    F_4  \\\n",
       "349      1552629         0       64641  0.0   910.0  159.701923  125.0   \n",
       "350      1552629         0       64641  0.0   910.0  159.701923  125.0   \n",
       "351      1552629         0       64641  0.0   910.0  159.701923  125.0   \n",
       "352      1552629         0       64641  0.0   910.0  159.701923  125.0   \n",
       "353      1552629         0       64641  0.0   910.0  159.701923  125.0   \n",
       "...          ...       ...         ...  ...     ...         ...    ...   \n",
       "6304     7170111        70      497000  0.0  2164.0  466.975207  244.0   \n",
       "6305     7170111        70      497000  0.0  2164.0  466.975207  244.0   \n",
       "6306     7170111        70      497000  0.0  2164.0  466.975207  244.0   \n",
       "6307     7170111        70      497000  0.0  2164.0  466.975207  244.0   \n",
       "6308     7170111        70      497000  0.0  2164.0  466.975207  244.0   \n",
       "\n",
       "             F_5  F_6     F_7  ...  Post_date_7  Base_date_1  Base_date_2  \\\n",
       "349   153.676163  0.0   621.0  ...            0            0            1   \n",
       "350   153.676163  0.0   621.0  ...            0            0            0   \n",
       "351   153.676163  0.0   621.0  ...            0            0            0   \n",
       "352   153.676163  0.0   621.0  ...            1            0            0   \n",
       "353   153.676163  0.0   621.0  ...            1            0            1   \n",
       "...          ...  ...     ...  ...          ...          ...          ...   \n",
       "6304  497.966169  0.0  1990.0  ...            0            0            0   \n",
       "6305  497.966169  0.0  1990.0  ...            0            0            0   \n",
       "6306  497.966169  0.0  1990.0  ...            0            0            0   \n",
       "6307  497.966169  0.0  1990.0  ...            0            0            0   \n",
       "6308  497.966169  0.0  1990.0  ...            0            0            0   \n",
       "\n",
       "      Base_date_3  Base_date_4  Base_date_5  Base_date_6  Base_date_7  \\\n",
       "349             0            0            0            0            0   \n",
       "350             0            1            0            0            0   \n",
       "351             0            1            0            0            0   \n",
       "352             1            0            0            0            0   \n",
       "353             0            0            0            0            0   \n",
       "...           ...          ...          ...          ...          ...   \n",
       "6304            0            1            0            0            0   \n",
       "6305            0            1            0            0            0   \n",
       "6306            0            1            0            0            0   \n",
       "6307            0            0            1            0            0   \n",
       "6308            0            0            0            1            0   \n",
       "\n",
       "      Span count  bias  \n",
       "349          278     1  \n",
       "350           21     1  \n",
       "351           16     1  \n",
       "352            3     1  \n",
       "353            0     1  \n",
       "...          ...   ...  \n",
       "6304         203     1  \n",
       "6305          42     1  \n",
       "6306          51     1  \n",
       "6307          17     1  \n",
       "6308          21     1  \n",
       "\n",
       "[110313 rows x 54 columns]"
      ]
     },
     "execution_count": 68,
     "metadata": {},
     "output_type": "execute_result"
    }
   ],
   "source": [
    "train_data"
   ]
  },
  {
   "cell_type": "markdown",
   "metadata": {},
   "source": [
    "## Features selection\n",
    "### Apply LASSO\n",
    "Now, we can try trimming the features using something we had learned throughout the course. This time record the selected features of LASSO using variable `lasso_selected_features`, and <i>optionally draw a graph between number of removed features and alpha values</i>."
   ]
  },
  {
   "cell_type": "code",
   "execution_count": 69,
   "metadata": {
    "scrolled": false
   },
   "outputs": [
    {
     "name": "stdout",
     "output_type": "stream",
     "text": [
      "[1242660.7378493242, 1191621.7252708757, 1210803.151992683, 1637086.3617248118, 1637086.3617248118, 1637086.3617248118, 1637086.3617248118, 1637086.3617248118, 1637086.3617248118, 1637086.3617248118, 1637086.3617248118, 1637086.3617248118, 1637086.3617248118, 1637086.3617248118, 1637086.3617248118, 1637086.3617248118, 1637086.3617248118, 1637086.3617248118, 1637086.3617248118, 1637086.3617248118, 1637086.3617248118]\n",
      "[8, 6, 2, 0, 0, 0, 0, 0, 0, 0, 0, 0, 0, 0, 0, 0, 0, 0, 0, 0, 0]\n"
     ]
    }
   ],
   "source": [
    "from sklearn.linear_model import Lasso\n",
    "nonzero_list = []\n",
    "test_RSS = []\n",
    "min_RSS = 1e15\n",
    "for alpha in np.logspace(0, 10, num=21):\n",
    "    model = Lasso(alpha=alpha).fit(train_features, train_labels)\n",
    "    nonzero_list.append(np.count_nonzero(model.coef_))\n",
    "    RSS = get_RSS(model.predict(test_features),test_labels)\n",
    "    test_RSS.append(RSS)\n",
    "    if RSS < min_RSS:\n",
    "        min_RSS = RSS\n",
    "        best_alpha = alpha\n",
    "print(test_RSS)\n",
    "print(nonzero_list)"
   ]
  },
  {
   "cell_type": "code",
   "execution_count": 70,
   "metadata": {},
   "outputs": [
    {
     "data": {
      "text/plain": [
       "1191621.7252708757"
      ]
     },
     "execution_count": 70,
     "metadata": {},
     "output_type": "execute_result"
    }
   ],
   "source": [
    "min_RSS"
   ]
  },
  {
   "cell_type": "code",
   "execution_count": 71,
   "metadata": {},
   "outputs": [
    {
     "data": {
      "text/plain": [
       "'3.1623'"
      ]
     },
     "execution_count": 71,
     "metadata": {},
     "output_type": "execute_result"
    }
   ],
   "source": [
    "\"{:.4f}\".format(best_alpha)"
   ]
  },
  {
   "cell_type": "code",
   "execution_count": 72,
   "metadata": {},
   "outputs": [
    {
     "data": {
      "text/plain": [
       "array([ 0.        , -0.        ,  0.        ,  0.        ,  0.        ,\n",
       "        0.        ,  0.        ,  0.        ,  0.        ,  0.        ,\n",
       "        0.66023749,  1.52160032,  0.        ,  0.        ,  0.        ,\n",
       "        0.        ,  0.        ,  0.        ,  0.        ,  0.        ,\n",
       "        0.        ,  0.        ,  0.        , -0.        ,  0.        ,\n",
       "        0.        , -0.        ,  0.        ,  0.        , 10.32258186,\n",
       "       -0.        ,  0.        ,  2.24975848, -6.713375  ,  0.        ,\n",
       "        4.88708683,  0.        ,  0.        , -0.        , -0.        ,\n",
       "        0.        ,  0.        ,  0.        ,  0.        , -0.        ,\n",
       "       -0.        , -0.        ,  0.        ,  0.        , -0.        ,\n",
       "       -0.        ,  0.        ,  0.        ])"
      ]
     },
     "execution_count": 72,
     "metadata": {},
     "output_type": "execute_result"
    }
   ],
   "source": [
    "model = Lasso(alpha=best_alpha).fit(train_features, train_labels)\n",
    "model.coef_"
   ]
  },
  {
   "cell_type": "code",
   "execution_count": 73,
   "metadata": {},
   "outputs": [
    {
     "data": {
      "text/plain": [
       "['F_8', 'F_9', 'CC2', 'CC5', 'Base time', 'Post count']"
      ]
     },
     "execution_count": 73,
     "metadata": {},
     "output_type": "execute_result"
    }
   ],
   "source": [
    "lasso_selected_features = np.array(features)[model.coef_ != 0].tolist()\n",
    "lasso_selected_features"
   ]
  },
  {
   "cell_type": "code",
   "execution_count": 74,
   "metadata": {},
   "outputs": [
    {
     "data": {
      "image/png": "[encoded data removed]",
      "text/plain": [
       "<Figure size 432x288 with 1 Axes>"
      ]
     },
     "metadata": {
      "needs_background": "light"
     },
     "output_type": "display_data"
    }
   ],
   "source": [
    "x = np.logspace(0, 10, num=21)\n",
    "y = nonzero_list\n",
    "plt.plot(x, y)\n",
    "plt.xscale('log')\n",
    "plt.xlabel('alpha')\n",
    "\n",
    "plt.ylabel('features kept')\n",
    "\n",
    "plt.show()"
   ]
  },
  {
   "cell_type": "markdown",
   "metadata": {},
   "source": [
    "### Build a model strictly with the selected features\n",
    "Remember that when you do features selecting, you may have to re-add bias into the list of features yet again. Use the selected features to build a model and calculate the performance basing on the metrics."
   ]
  },
  {
   "cell_type": "code",
   "execution_count": 75,
   "metadata": {},
   "outputs": [],
   "source": [
    "if(\"bias\" not in lasso_selected_features):\n",
    "    lasso_selected_features.append('bias')\n"
   ]
  },
  {
   "cell_type": "markdown",
   "metadata": {},
   "source": [
    "## Combine everything on one model\n",
    "So LASSO performed admirably, shrinking aways unnecessary and noisy features and quicken the speed of calculation. Now let us combine both previous techniques together on one model."
   ]
  },
  {
   "cell_type": "code",
   "execution_count": 76,
   "metadata": {},
   "outputs": [
    {
     "data": {
      "text/plain": [
       "Ridge(alpha=1, copy_X=True, fit_intercept=True, max_iter=None, normalize=False,\n",
       "      random_state=None, solver='auto', tol=0.001)"
      ]
     },
     "execution_count": 76,
     "metadata": {},
     "output_type": "execute_result"
    }
   ],
   "source": [
    "label = \"Span count\"\n",
    "features = lasso_selected_features\n",
    "\n",
    "train_features = train_data[ features ]\n",
    "train_labels = train_data[ label ]\n",
    "test_features = test_data[ features ]\n",
    "test_labels = test_data[ label ]\n",
    "\n",
    "train_features = scaler.fit_transform(train_features)\n",
    "test_features = scaler.transform(test_features)\n",
    "\n",
    "multi_model = Ridge(alpha=1)\n",
    "multi_model.fit(train_features, train_labels)"
   ]
  },
  {
   "cell_type": "markdown",
   "metadata": {},
   "source": [
    "### Distribution of square errors\n",
    "The conclusion is yours to draw. As a side note, let's see how the square errors are distributed."
   ]
  },
  {
   "cell_type": "code",
   "execution_count": 77,
   "metadata": {},
   "outputs": [
    {
     "data": {
      "image/png": "[encoded data removed]",
      "text/plain": [
       "<Figure size 432x288 with 2 Axes>"
      ]
     },
     "metadata": {
      "needs_background": "light"
     },
     "output_type": "display_data"
    }
   ],
   "source": [
    "train_square_errors = np.log( (train_labels - multi_model.predict(train_features)) ** 2 )\n",
    "test_square_errors = np.log( (test_labels - test_predictions) ** 2 )\n",
    "fig, (train_ax, test_ax) = plt.subplots(ncols=2, sharey=True)\n",
    "train_ax.hist(train_square_errors, bins=20, density=True)\n",
    "train_ax.set_xlabel(\"Train error (log)\")\n",
    "test_ax.set_xlabel(\"Test error (log)\")\n",
    "test_ax.hist(test_square_errors, bins=20, density=True)\n",
    "plt.show()"
   ]
  },
  {
   "cell_type": "code",
   "execution_count": null,
   "metadata": {},
   "outputs": [],
   "source": []
  }
 ],
 "metadata": {
  "kernelspec": {
   "display_name": "Python 3",
   "language": "python",
   "name": "python3"
  },
  "language_info": {
   "codemirror_mode": {
    "name": "ipython",
    "version": 3
   },
   "file_extension": ".py",
   "mimetype": "text/x-python",
   "name": "python",
   "nbconvert_exporter": "python",
   "pygments_lexer": "ipython3",
   "version": "3.7.4"
  }
 },
 "nbformat": 4,
 "nbformat_minor": 2
}
